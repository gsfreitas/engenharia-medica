{
  "nbformat": 4,
  "nbformat_minor": 0,
  "metadata": {
    "colab": {
      "provenance": [],
      "mount_file_id": "1TiKf-zLf2q8JvHA8ZdVYetrwOa3QPy0z",
      "authorship_tag": "ABX9TyMJZ/AYBbGLjCKW6A5QIRz4",
      "include_colab_link": true
    },
    "kernelspec": {
      "name": "python3",
      "display_name": "Python 3"
    },
    "language_info": {
      "name": "python"
    }
  },
  "cells": [
    {
      "cell_type": "markdown",
      "metadata": {
        "id": "view-in-github",
        "colab_type": "text"
      },
      "source": [
        "<a href=\"https://colab.research.google.com/github/gsfreitas/engenharia-medica/blob/main/atividade_pratica_4.ipynb\" target=\"_parent\"><img src=\"https://colab.research.google.com/assets/colab-badge.svg\" alt=\"Open In Colab\"/></a>"
      ]
    },
    {
      "cell_type": "markdown",
      "source": [
        "# Seleção escalar de características"
      ],
      "metadata": {
        "id": "niOjtG25bm0B"
      }
    },
    {
      "cell_type": "code",
      "source": [
        "# importando as bibliotecas\n",
        "import matplotlib.pyplot as plt\n",
        "import numpy as np\n",
        "import scipy.stats as st\n",
        "import itertools\n",
        "import scipy.io\n",
        "import scipy.fft as fft\n",
        "from scipy.signal import welch\n",
        "from sklearn import svm\n",
        "from scipy.stats import shapiro\n",
        "import seaborn as sns\n",
        "import operator"
      ],
      "metadata": {
        "id": "JpANbNxHbphO"
      },
      "execution_count": 71,
      "outputs": []
    },
    {
      "cell_type": "code",
      "source": [
        "# leitura e tratamento dos dados\n",
        "data_1 = scipy.io.loadmat(\"/content/drive/MyDrive/ict-unifesp/2023.2/engenharia-medica/atividade-pratica-4/Dados_exercicio1.mat\")\n",
        "adiposo = data_1['figadoadiposo']\n",
        "cirrotico = data_1['figadocirrotico']"
      ],
      "metadata": {
        "id": "BI7jqdxjciWm"
      },
      "execution_count": 72,
      "outputs": []
    },
    {
      "cell_type": "markdown",
      "source": [
        "**1)** Seleção escalar de características. Nesta tarefa vamos testar o procedimento de seleção escalar de características. Para isso, comece lendo o método “t3_selescalar” disponível no github do curso (main.py) e garanta que você\n",
        "compreende o que está sendo realizado por esta função (compare a função com o que foi estudado na aula 06). A sua tarefa envolve empregar este método junto às funções “t3_fazroc” (ver aula 08) e “t3_FDR” (ver slides desta aula) para testar o procedimento de seleção escalar nos dados contidos no arquivo “Dados_exercicio1.mat” disponível no Classroom desta aula. O arquivo contém duas matrizes 10 x 4 chamadas de “figadoadiposo” e “figadocirrotico” e correspondem a registros obtidos a partir de regiões de interesse retiradas de imagens de ultrassom em um fígado com infiltração adiposa e em um fígado cirrótico, respectivamente. As linhas das matrizes correspondem a padrões distintos, as colunas correspondem às seguintes características estatísticas, em ordem: 1) média entre os pixels nas regiões de interesse de cada imagem; 2) desvio padrão entre esses mesmos pixels; 3) skewness (obliquidade) entre os pixels; 4) kurtosis (curtose) entre os pixels. Use o procedimento de seleção escalar para escolher 2 características das 4 inicialmente presentes."
      ],
      "metadata": {
        "id": "eB94tVMkgKOz"
      }
    },
    {
      "cell_type": "code",
      "source": [
        "def t3_selescalar(correl,criterio,peso):\n",
        "    #Realiza a seleção escalar de características a partir de uma matriz de correlações e um vetor de critérios\n",
        "    #Inputs:\n",
        "    # - correl = matriz de correlações entre as características\n",
        "    # - criterio = vetor de critérios\n",
        "    # - peso = array com dois elementos [A,B], contendo o peso do critério(A) e o da correlação (B)\n",
        "    #Outputs:\n",
        "    # - ordem = ordem das características para seleção\n",
        "    Nc=len(criterio)\n",
        "    Nc1,Nc2=np.shape(correl)\n",
        "    if Nc!= Nc1 | Nc!=Nc2:\n",
        "        print('Confira as dimensoes!')\n",
        "        return\n",
        "    falta=list(np.indices(np.shape(criterio))[0])\n",
        "    ordem=[criterio.argmax().item()] #inicializacao\n",
        "    falta.remove(ordem)\n",
        "    while len(falta)>0:\n",
        "        x=np.zeros(len(falta))\n",
        "        for j in range(len(falta)):#pegue uma caracteristica\n",
        "            x[j]=criterio[falta[j]]*peso[0]\n",
        "            y=abs(correl[falta[j],ordem])\n",
        "            x[j]=x[j]-peso[1]*y.mean()\n",
        "        nordem=falta[x.argmax().item()]\n",
        "        ordem.append(nordem)\n",
        "        falta.remove(nordem)\n",
        "    return ordem"
      ],
      "metadata": {
        "id": "d5BRVSLnf1Bh"
      },
      "execution_count": 73,
      "outputs": []
    },
    {
      "cell_type": "code",
      "source": [
        "def t3_remoutliers(padroes,p,method='desvio'):\n",
        "   #Encontra outlires baseando-se em dois métodos possiveis:\n",
        "    #  method = 'desvio': mediana +-p x desvio\n",
        "    #  method = 'quartis': quartis  +-p x intervalo entre quartis\n",
        "    # padroes = numpy array de uma característica (N x 1)\n",
        "    # p = numero de desvios ou de intervalos entre quartis a ser empregado\n",
        "    # retorna lista com as posicoes dos outliers no array\n",
        "    if method =='desvio':\n",
        "        md=np.median(padroes)\n",
        "        std=np.std(padroes,ddof=1)\n",
        "        th1=md+p*std\n",
        "        th2=md-p*std\n",
        "    elif method=='quartis':\n",
        "        q3, q1 = np.percentile(padroes, [75 ,25])\n",
        "        iqr=q3-q1\n",
        "        th1=q3+p*iqr\n",
        "        th2=q1-p*iqr\n",
        "    outliers=(padroes>th1) | (padroes<th2)\n",
        "    outs=[i for i, val in enumerate(outliers) if val]\n",
        "    return outs"
      ],
      "metadata": {
        "id": "Xlo_TmlZiwdh"
      },
      "execution_count": 74,
      "outputs": []
    },
    {
      "cell_type": "code",
      "source": [
        "adiposo[0,:]"
      ],
      "metadata": {
        "colab": {
          "base_uri": "https://localhost:8080/"
        },
        "id": "e_BShwrTi02m",
        "outputId": "193ab9ea-0556-483f-9ad9-2ddef18e7c2f"
      },
      "execution_count": 75,
      "outputs": [
        {
          "output_type": "execute_result",
          "data": {
            "text/plain": [
              "array([100.85,  24.83,   1.11,   6.27])"
            ]
          },
          "metadata": {},
          "execution_count": 75
        }
      ]
    },
    {
      "cell_type": "code",
      "source": [
        "# criando array com o nome dos trechos\n",
        "trechos = ['adiposo', 'cirrotico']\n",
        "\n",
        "# criando listas para armazenar os outliers de cada trecho\n",
        "out_adiposo = []\n",
        "out_cirrotico = []\n",
        "\n",
        "# iterando sobre cada lista para receber os outliers\n",
        "for index in range(0,4):\n",
        "  out_adiposo.append(t3_remoutliers(adiposo[:,index], 3, 'desvio'))\n",
        "  out_cirrotico.append(t3_remoutliers(cirrotico[:,index], 3, 'desvio'))\n",
        "\n",
        "# contando os valores únicos de outliers de cada trecho\n",
        "outliers = [list(set(valor for sublista in out_adiposo for valor in sublista)),\n",
        "            list(set(valor for sublista in out_cirrotico for valor in sublista))]\n",
        "\n",
        "# print com a quantidade de outliers de cada trecho\n",
        "for index in range(len(outliers)):\n",
        "  print(f\"Quantidade de outliers {trechos[index]}: {len(outliers[index])}\")"
      ],
      "metadata": {
        "colab": {
          "base_uri": "https://localhost:8080/"
        },
        "id": "9UE1bfX7hPNX",
        "outputId": "648d9451-bbe3-471c-f5af-d941950bf53b"
      },
      "execution_count": 76,
      "outputs": [
        {
          "output_type": "stream",
          "name": "stdout",
          "text": [
            "Quantidade de outliers adiposo: 0\n",
            "Quantidade de outliers cirrotico: 0\n"
          ]
        }
      ]
    },
    {
      "cell_type": "code",
      "source": [
        "def t3_normaliza(dados,metodo='linear',r=1):\n",
        "    #Realiza a normalizacao de um conjunto de padroes\n",
        "    # dados = numpy array com padroes de uma caracteristica N x 1\n",
        "    # metodo ='linear' : normalizacao linear (padrao)\n",
        "    #        = 'mmx': limitada entre -1 e 1\n",
        "    #        = 'sfm': rescala nao linear no intervalo 0 a 1\n",
        "    # r = parametro do metodo sfm (padrao =1)\n",
        "    #A função retorna os dados normalizados\n",
        "    if metodo=='linear':\n",
        "        M=np.mean(dados)\n",
        "        S=np.std(dados,ddof=1)\n",
        "        dadosnorm=(dados-M)/S\n",
        "    elif metodo=='mmx':\n",
        "        dadosnorm=2*dados/(np.max(dados)-np.min(dados))\n",
        "        dadosnorm=dadosnorm - (np.min(dadosnorm)+1)\n",
        "    elif metodo=='sfm':\n",
        "        x=dados-np.mean(dados)\n",
        "        x=-x/(r*np.std(dados))\n",
        "        dadosnorm=1/(1+np.exp(x))\n",
        "    return dadosnorm"
      ],
      "metadata": {
        "id": "hyA4dJ9IjLgR"
      },
      "execution_count": 77,
      "outputs": []
    },
    {
      "cell_type": "code",
      "source": [
        "def juntar(dados):\n",
        "    # Nesta função, a variável \"dados\" deve ser uma lista de classes.\n",
        "    # Cada elemento da lista corresponde\n",
        "    # a um array com padrões x características (formato N x L), onde L é fixo\n",
        "    # para todas as classes.\n",
        "    # A função retorna uma matriz padrões x características, contendo\n",
        "    # todos os padrões de todas as classes e um vetor contendo o número da\n",
        "    # classe de cada padrão.\n",
        "\n",
        "    Nc=len(dados) #número de classes\n",
        "    #verificando se as dimensões estão corretas:\n",
        "    L=np.unique([np.size(s,axis=1) for s in dados]) #número de características\n",
        "    if len(L)>1:\n",
        "        print('ERRO: todas classes devem ter o mesmo número de características!')\n",
        "\n",
        "    dados_todos=dados[0]\n",
        "    classes_todos=np.zeros(np.size(dados[0],axis=0),)\n",
        "    for i in range(1,Nc):\n",
        "        dados_todos=np.concatenate((dados_todos,dados[i]))\n",
        "        classes_todos=np.concatenate((classes_todos,i+np.zeros(np.size(dados[i],axis=0),)))\n",
        "    return dados_todos,classes_todos"
      ],
      "metadata": {
        "id": "k-F61l9Ujm2v"
      },
      "execution_count": 78,
      "outputs": []
    },
    {
      "cell_type": "code",
      "source": [
        "# juntando os dados\n",
        "data = []\n",
        "data.append(adiposo)\n",
        "data.append(cirrotico)\n",
        "\n",
        "# utilizando a função para juntar as classes\n",
        "all_data, all_classes = juntar(data)\n",
        "\n",
        "# normalizando todas as classes\n",
        "normalized = t3_normaliza(all_data, 'linear', r=1)\n",
        "\n",
        "# separando as variáveis novamente\n",
        "norm_adiposo = all_data[all_classes==0, :].T\n",
        "norm_cirrotico = all_data[all_classes==1, :].T"
      ],
      "metadata": {
        "id": "u1kUuZ1Zj_cM"
      },
      "execution_count": 105,
      "outputs": []
    },
    {
      "cell_type": "code",
      "source": [
        "norm_adiposo.shape"
      ],
      "metadata": {
        "colab": {
          "base_uri": "https://localhost:8080/"
        },
        "id": "EH-ygMpL_MT6",
        "outputId": "1871d384-784f-4c63-916e-fafc544751c4"
      },
      "execution_count": 106,
      "outputs": [
        {
          "output_type": "execute_result",
          "data": {
            "text/plain": [
              "(4, 10)"
            ]
          },
          "metadata": {},
          "execution_count": 106
        }
      ]
    },
    {
      "cell_type": "code",
      "source": [
        "def t3_fazroc(dados1,dados2,nomecarac='',plotar=True):\n",
        "    #função que calcula a ROC para ser aplicada em dois conjuntos de padroes (uma caracteristica)\n",
        "    #Inputs:\n",
        "    # - dados1 = numpy array com padroes de uma caracteristica para a primeira classe N1 x 1\n",
        "    # - dados2 = numpy array com padroes de uma caracteristica para a segunda classe N2 x 1\n",
        "    # - nomecarac = nome da característica para o gráfico\n",
        "    # - plotar = faz o gráfico da ROC (True or False)\n",
        "    #Outputs:\n",
        "    # - auc = área embaixo da curva ROC\n",
        "    # - fpr = taxas de falsos positivos em função do limiar\n",
        "    # - tpr = taxas de verdadeiros positivos em função do limiar\n",
        "    # - acuracia = acuracias totais em função do limiar\n",
        "    # - thresholds = limiares da roc\n",
        "    # - classes = classes dos dois inputs (1 ou -1)\n",
        "    Np1=dados1.shape[0]\n",
        "    Np2=dados2.shape[0]\n",
        "    classes=np.zeros(Np1+Np2)\n",
        "    classes[0:Np1]=-1\n",
        "    classes[Np1:Np1+Np2]=1\n",
        "    dados=np.concatenate((dados1,dados2),axis=0)\n",
        "    s=dados.argsort()\n",
        "    thresholds=dados[s]\n",
        "    classessort=classes[s]\n",
        "    tpr=np.zeros(len(classes)+1)\n",
        "    fpr=np.zeros(len(classes)+1)\n",
        "    acuracia=np.zeros(len(classes)+1)\n",
        "    erro=np.zeros(len(classes)+1)\n",
        "    for i in range(len(classessort)):\n",
        "        pos=classessort[i:]\n",
        "        tpr[i]=sum(pos==1)/sum(classes==1)\n",
        "        fpr[i]=sum(pos==-1)/sum(classes==-1)\n",
        "        acuracia[i]=(sum(pos==1) + (sum(classes==-1)-sum(pos==-1)))/(sum(classes==1)+sum(classes==-1))\n",
        "        erro[i]=(sum(pos==-1) + (sum(classes==1)-sum(pos==1)))/(sum(classes==1)+sum(classes==-1))\n",
        "    auc=-np.trapz(tpr,x=fpr)\n",
        "    classes=[-1,1] #classes dos dois input\n",
        "    if auc<0.5:\n",
        "        auc=1-auc\n",
        "        fpr2=fpr\n",
        "        fpr=tpr\n",
        "        tpr=fpr2\n",
        "        acuracia2=acuracia\n",
        "        acuracia=erro\n",
        "        erro=acuracia2\n",
        "        classes=[1,-1] #classes dos dois inputs\n",
        "    if plotar:\n",
        "            plt.figure()\n",
        "            plt.plot(fpr,tpr)\n",
        "            plt.title(nomecarac+' AUC = '+'{:.2}'.format(auc))\n",
        "            plt.xlabel('False Positive Rate')\n",
        "            plt.ylabel('True Positive Rate')\n",
        "            plt.show(block=False)\n",
        "    return auc, fpr, tpr, classes, thresholds, acuracia"
      ],
      "metadata": {
        "id": "fdSxiKdZ5OY6"
      },
      "execution_count": 80,
      "outputs": []
    },
    {
      "cell_type": "code",
      "source": [
        "norm_adiposo[0,:].shape"
      ],
      "metadata": {
        "colab": {
          "base_uri": "https://localhost:8080/"
        },
        "id": "-iunERJo54gu",
        "outputId": "94b45316-3c64-44a7-cb00-ff5a1fd4e704"
      },
      "execution_count": 81,
      "outputs": [
        {
          "output_type": "execute_result",
          "data": {
            "text/plain": [
              "(10,)"
            ]
          },
          "metadata": {},
          "execution_count": 81
        }
      ]
    },
    {
      "cell_type": "code",
      "source": [
        "# calculo da auc da roc\n",
        "roc = []\n",
        "for index in range(0,4):\n",
        "  roc.append(t3_fazroc(norm_adiposo[index,:], norm_cirrotico[index,:], nomecarac='', plotar=True))"
      ],
      "metadata": {
        "colab": {
          "base_uri": "https://localhost:8080/",
          "height": 1000
        },
        "id": "_itCBOEX41y4",
        "outputId": "a17b1e71-13e7-4d3f-fd61-ce40ae62ef63"
      },
      "execution_count": 107,
      "outputs": [
        {
          "output_type": "display_data",
          "data": {
            "text/plain": [
              "<Figure size 640x480 with 1 Axes>"
            ],
            "image/png": "[encoded data removed]"
          },
          "metadata": {}
        },
        {
          "output_type": "display_data",
          "data": {
            "text/plain": [
              "<Figure size 640x480 with 1 Axes>"
            ],
            "image/png": "[encoded data removed]"
          },
          "metadata": {}
        },
        {
          "output_type": "display_data",
          "data": {
            "text/plain": [
              "<Figure size 640x480 with 1 Axes>"
            ],
            "image/png": "[encoded data removed]"
          },
          "metadata": {}
        },
        {
          "output_type": "display_data",
          "data": {
            "text/plain": [
              "<Figure size 640x480 with 1 Axes>"
            ],
            "image/png": "[encoded data removed]"
          },
          "metadata": {}
        }
      ]
    },
    {
      "cell_type": "markdown",
      "source": [
        "Agora temos a auc e outros parâmetros retornados para cada uma das 4 caracteristicas"
      ],
      "metadata": {
        "id": "W3P3Gcpu6Xkv"
      }
    },
    {
      "cell_type": "code",
      "source": [
        "# acessando a auc da roc que servira como criterio\n",
        "auc = np.asarray([roc[0][0], roc[1][0], roc[2][0], roc[3][0]])\n",
        "\n",
        "# definindo os pesos\n",
        "peso = [0.5, 0.5]\n",
        "\n",
        "# calculo da correlacao\n",
        "classes = np.concatenate((norm_adiposo, norm_cirrotico), axis=1)\n",
        "corr = np.corrcoef(classes)\n",
        "\n",
        "# selecao escalar de caracteristica\n",
        "selected = t3_selescalar(corr, auc, peso)\n",
        "\n",
        "print(selected)"
      ],
      "metadata": {
        "colab": {
          "base_uri": "https://localhost:8080/"
        },
        "id": "2y0PQuxg6Pey",
        "outputId": "4b337cc0-a972-44b5-e8be-66235978211d"
      },
      "execution_count": 133,
      "outputs": [
        {
          "output_type": "stream",
          "name": "stdout",
          "text": [
            "[0, 3, 1, 2]\n"
          ]
        }
      ]
    },
    {
      "cell_type": "markdown",
      "source": [
        "Pesos iguais (0.5, 0.5)\n",
        "\n",
        "0.   média\n",
        "1.   curtose\n",
        "2.   desvio padrão\n",
        "3.   obliquidade"
      ],
      "metadata": {
        "id": "rYcn0gFyBrPf"
      }
    },
    {
      "cell_type": "markdown",
      "source": [
        "Agora, faremos para o critério de Fisher - FDR"
      ],
      "metadata": {
        "id": "8IV-U8XtDljR"
      }
    },
    {
      "cell_type": "code",
      "source": [
        "def t3_FDR(dado1,dado2):\n",
        "    #Calcula o critério FDR entre duas matrizes caracteristicas x padroes\n",
        "    #Inputs:\n",
        "    # - dado1 = característica x padrões, classe 1\n",
        "    # - dado2 = característica x padrões, classe 1\n",
        "    #Outputs:\n",
        "    # - fdr = valores de FDR para cada característica\n",
        "    m1=np.mean(dado1,1)\n",
        "    m2=np.mean(dado2,1)\n",
        "    s1=np.var(dado1,axis=1,ddof=1)\n",
        "    s2=np.var(dado2,axis=1,ddof=1)\n",
        "    fdr=(m1-m2)**2/(s1+s2)\n",
        "    return fdr"
      ],
      "metadata": {
        "id": "kw2vGfgcDk2e"
      },
      "execution_count": 134,
      "outputs": []
    },
    {
      "cell_type": "code",
      "source": [
        "# calculo pelo criterio fdr\n",
        "fdr = t3_FDR(norm_adiposo, norm_cirrotico)\n",
        "\n",
        "# selecao escalar de caracteristica - pesos iguais\n",
        "selected = t3_selescalar(corr, fdr, peso)\n",
        "\n",
        "print(selected)"
      ],
      "metadata": {
        "colab": {
          "base_uri": "https://localhost:8080/"
        },
        "id": "-RuHnYKbD4Qr",
        "outputId": "cc5a9dd7-7725-41c0-9d91-c08a77244bc0"
      },
      "execution_count": 138,
      "outputs": [
        {
          "output_type": "stream",
          "name": "stdout",
          "text": [
            "[0, 1, 2, 3]\n"
          ]
        }
      ]
    },
    {
      "cell_type": "markdown",
      "source": [
        "Pesos iguais (0.5, 0.5)\n",
        "\n",
        "0.   média\n",
        "1.   desvio padrão\n",
        "2.   obliquidade\n",
        "3.   curtose\n"
      ],
      "metadata": {
        "id": "4TlUOisIERoV"
      }
    },
    {
      "cell_type": "code",
      "source": [
        "# selecao escalar de caracteristica - pesos distintos\n",
        "peso_2 = [0.2, 0.8]\n",
        "selected = t3_selescalar(corr, fdr, peso_2)\n",
        "\n",
        "print(selected)"
      ],
      "metadata": {
        "colab": {
          "base_uri": "https://localhost:8080/"
        },
        "id": "dCXVsvNqEQx_",
        "outputId": "1706f017-6ea0-4d5f-f9c9-7e2bbcc513f3"
      },
      "execution_count": 139,
      "outputs": [
        {
          "output_type": "stream",
          "name": "stdout",
          "text": [
            "[0, 3, 1, 2]\n"
          ]
        }
      ]
    },
    {
      "cell_type": "markdown",
      "source": [
        "Pesos diferentes (0.2, 0.8)\n",
        "\n",
        "0.   media\n",
        "1.   curtose\n",
        "2.   desvio padrão\n",
        "3.   obliquidade"
      ],
      "metadata": {
        "id": "c5_I9WFSE91j"
      }
    },
    {
      "cell_type": "markdown",
      "source": [
        "# Seleção vetorial de características"
      ],
      "metadata": {
        "id": "n0tep6WZFrBk"
      }
    },
    {
      "cell_type": "markdown",
      "source": [
        "No github do curso (main.py) você poderá encontrar o método “t3_selvetorial” que realiza a seleção vetorial exaustiva em um conjunto de características a partir das matrizes de espalhamento, calculadas no método “t3_matrizesdeespalhamento” (ver aula 07 para uma descrição do procedimento de seleção vetorial).\n",
        "\n",
        "Novamente, garanta que você compreende o que está sendo realizado por estas funções e depois teste o procedimento de seleção vetorial nos dados do exercício anterior, selecionando duas características das quatro inicialmente presentes. Para este problema, não esqueça de normalizar antes os seus dados (uma normalização linear é suficiente, mas neste problema não é necessário realizar detecção de outliers ou pré-seleção). Gere alguns mapas bidimensionais e visualize a distinção entre as duas classes para diferentes valores dos critérios de seleção vetorial - por exemplo, o mapa contido na figura abaixo foi gerado com a seleção exaustiva após uma normalização linear"
      ],
      "metadata": {
        "id": "4H-kV-UFGNIK"
      }
    },
    {
      "cell_type": "code",
      "source": [
        "def t3_matrizesdeespalhamento(classes,selcars):\n",
        "    #Calcula as matrizes de espalhamento a partir de uma lista de classes\n",
        "    #Inputs:\n",
        "    # - classes = lista em que cada elemento corresponde a um array características x padrões de cada classe\n",
        "    # - selcars = índice de quais características usar no cálculo das matrizes\n",
        "    #Outputs:\n",
        "    # - matrizes de espalhamento: SW, SM e SB\n",
        "    Ncl=len(classes)\n",
        "    mean_vectors=[]\n",
        "    for cl in range(Ncl):\n",
        "        mean_vectors.append(np.mean(classes[cl][selcars,:],axis=1))\n",
        "    prob=np.zeros(Ncl)\n",
        "    N=0\n",
        "    for i in range(Ncl):\n",
        "        prob[i]=np.size(classes[i][selcars,:],axis=1)\n",
        "        N=N+prob[i]\n",
        "    prob=prob/N\n",
        "    Ncar=len(selcars)\n",
        "    SW=np.zeros((Ncar,Ncar))#within classes\n",
        "    for cl in range(Ncl):\n",
        "        varwithin=np.cov(classes[cl][selcars,:],ddof=0)\n",
        "        SW=SW+prob[cl]*varwithin\n",
        "    allclasses=classes[0][selcars,:]\n",
        "    for cl in range(Ncl-1):\n",
        "        allclasses=np.concatenate((allclasses,classes[cl+1][selcars,:]),axis=1)\n",
        "    SM=np.cov(allclasses,ddof=0)\n",
        "    SB = SM - SW\n",
        "    return SW,SM,SB"
      ],
      "metadata": {
        "id": "yRdZnYvaHTpe"
      },
      "execution_count": 144,
      "outputs": []
    },
    {
      "cell_type": "code",
      "source": [
        "\"\"\"\n",
        "como os dados já estão normalizados, então\n",
        "podemos aplicar a função diretamente\n",
        "\"\"\"\n",
        "\n",
        "# unindo as classes em uma lista\n",
        "classes = [norm_adiposo, norm_cirrotico]\n",
        "\n",
        "# selecionando duas características das quatro presentes\n",
        "features = [0, 1]\n",
        "\n",
        "SW, SM, SB = t3_matrizesdeespalhamento(classes, features)"
      ],
      "metadata": {
        "id": "VVk2MZRMHzZe"
      },
      "execution_count": null,
      "outputs": []
    },
    {
      "cell_type": "code",
      "source": [
        "def t3_selvetorial(classes,n):\n",
        "    #Calcula os critérios para seleção vetorial exaustiva de n características\n",
        "    #Inputs:\n",
        "    # - classes = lista em que cada elemento corresponde a um array características x padrões de cada classe\n",
        "    # - n = número de características para selecionar\n",
        "    #Outputs:\n",
        "    # - J1, J2 e J3: critérios da seleção vetorial\n",
        "    # - combs: lista com as características empregadas para cada valor de critério\n",
        "    Ncar=np.size(classes[0],axis=0)\n",
        "    combs=list(itertools.combinations(range(Ncar),n))\n",
        "    J1=np.zeros(len(combs))\n",
        "    J2=np.zeros(len(combs))\n",
        "    J3=np.zeros(len(combs))\n",
        "    for i in range(len(combs)): #todas combinacoes\n",
        "        SW,SM,SB=t3_matrizesdeespalhamento(classes,combs[i])\n",
        "        J1[i]=np.trace(SM)/np.trace(SW)\n",
        "        J2[i]=np.linalg.det(SM)/np.linalg.det(SW)\n",
        "        J3[i]=np.trace(np.dot(np.linalg.inv(SW),SM))/np.size(SW,axis=0)\n",
        "    return J1, J2, J3, combs"
      ],
      "metadata": {
        "id": "D_UGc0tqFurD"
      },
      "execution_count": 142,
      "outputs": []
    },
    {
      "cell_type": "code",
      "source": [],
      "metadata": {
        "colab": {
          "base_uri": "https://localhost:8080/",
          "height": 332
        },
        "id": "OwZqD-hlGjob",
        "outputId": "e71e066a-9c10-40d8-bf8b-0f935a6cc8d7"
      },
      "execution_count": 143,
      "outputs": [
        {
          "output_type": "error",
          "ename": "NameError",
          "evalue": "ignored",
          "traceback": [
            "\u001b[0;31m---------------------------------------------------------------------------\u001b[0m",
            "\u001b[0;31mNameError\u001b[0m                                 Traceback (most recent call last)",
            "\u001b[0;32m<ipython-input-143-b4cbf6b31226>\u001b[0m in \u001b[0;36m<cell line: 8>\u001b[0;34m()\u001b[0m\n\u001b[1;32m      6\u001b[0m \u001b[0;31m# unindo as classes em uma lista\u001b[0m\u001b[0;34m\u001b[0m\u001b[0;34m\u001b[0m\u001b[0m\n\u001b[1;32m      7\u001b[0m \u001b[0mclasses\u001b[0m \u001b[0;34m=\u001b[0m \u001b[0;34m[\u001b[0m\u001b[0mnorm_adiposo\u001b[0m\u001b[0;34m,\u001b[0m \u001b[0mnorm_cirrotico\u001b[0m\u001b[0;34m]\u001b[0m\u001b[0;34m\u001b[0m\u001b[0;34m\u001b[0m\u001b[0m\n\u001b[0;32m----> 8\u001b[0;31m \u001b[0mJ1\u001b[0m\u001b[0;34m,\u001b[0m \u001b[0mJ2\u001b[0m\u001b[0;34m,\u001b[0m \u001b[0mJ3\u001b[0m\u001b[0;34m,\u001b[0m \u001b[0mcombs\u001b[0m \u001b[0;34m=\u001b[0m \u001b[0mt3_selvetorial\u001b[0m\u001b[0;34m(\u001b[0m\u001b[0mclasses\u001b[0m\u001b[0;34m,\u001b[0m \u001b[0;36m4\u001b[0m\u001b[0;34m)\u001b[0m\u001b[0;34m\u001b[0m\u001b[0;34m\u001b[0m\u001b[0m\n\u001b[0m",
            "\u001b[0;32m<ipython-input-142-effa2f9641c1>\u001b[0m in \u001b[0;36mt3_selvetorial\u001b[0;34m(classes, n)\u001b[0m\n\u001b[1;32m     13\u001b[0m     \u001b[0mJ3\u001b[0m\u001b[0;34m=\u001b[0m\u001b[0mnp\u001b[0m\u001b[0;34m.\u001b[0m\u001b[0mzeros\u001b[0m\u001b[0;34m(\u001b[0m\u001b[0mlen\u001b[0m\u001b[0;34m(\u001b[0m\u001b[0mcombs\u001b[0m\u001b[0;34m)\u001b[0m\u001b[0;34m)\u001b[0m\u001b[0;34m\u001b[0m\u001b[0;34m\u001b[0m\u001b[0m\n\u001b[1;32m     14\u001b[0m     \u001b[0;32mfor\u001b[0m \u001b[0mi\u001b[0m \u001b[0;32min\u001b[0m \u001b[0mrange\u001b[0m\u001b[0;34m(\u001b[0m\u001b[0mlen\u001b[0m\u001b[0;34m(\u001b[0m\u001b[0mcombs\u001b[0m\u001b[0;34m)\u001b[0m\u001b[0;34m)\u001b[0m\u001b[0;34m:\u001b[0m \u001b[0;31m#todas combinacoes\u001b[0m\u001b[0;34m\u001b[0m\u001b[0;34m\u001b[0m\u001b[0m\n\u001b[0;32m---> 15\u001b[0;31m         \u001b[0mSW\u001b[0m\u001b[0;34m,\u001b[0m\u001b[0mSM\u001b[0m\u001b[0;34m,\u001b[0m\u001b[0mSB\u001b[0m\u001b[0;34m=\u001b[0m\u001b[0mt3_matrizesdeespalhamento\u001b[0m\u001b[0;34m(\u001b[0m\u001b[0mclasses\u001b[0m\u001b[0;34m,\u001b[0m\u001b[0mcombs\u001b[0m\u001b[0;34m[\u001b[0m\u001b[0mi\u001b[0m\u001b[0;34m]\u001b[0m\u001b[0;34m)\u001b[0m\u001b[0;34m\u001b[0m\u001b[0;34m\u001b[0m\u001b[0m\n\u001b[0m\u001b[1;32m     16\u001b[0m         \u001b[0mJ1\u001b[0m\u001b[0;34m[\u001b[0m\u001b[0mi\u001b[0m\u001b[0;34m]\u001b[0m\u001b[0;34m=\u001b[0m\u001b[0mnp\u001b[0m\u001b[0;34m.\u001b[0m\u001b[0mtrace\u001b[0m\u001b[0;34m(\u001b[0m\u001b[0mSM\u001b[0m\u001b[0;34m)\u001b[0m\u001b[0;34m/\u001b[0m\u001b[0mnp\u001b[0m\u001b[0;34m.\u001b[0m\u001b[0mtrace\u001b[0m\u001b[0;34m(\u001b[0m\u001b[0mSW\u001b[0m\u001b[0;34m)\u001b[0m\u001b[0;34m\u001b[0m\u001b[0;34m\u001b[0m\u001b[0m\n\u001b[1;32m     17\u001b[0m         \u001b[0mJ2\u001b[0m\u001b[0;34m[\u001b[0m\u001b[0mi\u001b[0m\u001b[0;34m]\u001b[0m\u001b[0;34m=\u001b[0m\u001b[0mnp\u001b[0m\u001b[0;34m.\u001b[0m\u001b[0mlinalg\u001b[0m\u001b[0;34m.\u001b[0m\u001b[0mdet\u001b[0m\u001b[0;34m(\u001b[0m\u001b[0mSM\u001b[0m\u001b[0;34m)\u001b[0m\u001b[0;34m/\u001b[0m\u001b[0mnp\u001b[0m\u001b[0;34m.\u001b[0m\u001b[0mlinalg\u001b[0m\u001b[0;34m.\u001b[0m\u001b[0mdet\u001b[0m\u001b[0;34m(\u001b[0m\u001b[0mSW\u001b[0m\u001b[0;34m)\u001b[0m\u001b[0;34m\u001b[0m\u001b[0;34m\u001b[0m\u001b[0m\n",
            "\u001b[0;31mNameError\u001b[0m: name 't3_matrizesdeespalhamento' is not defined"
          ]
        }
      ]
    },
    {
      "cell_type": "code",
      "source": [],
      "metadata": {
        "id": "4hcfpfHsHKw6"
      },
      "execution_count": null,
      "outputs": []
    }
  ]
}