{
  "nbformat": 4,
  "nbformat_minor": 0,
  "metadata": {
    "colab": {
      "provenance": [],
      "toc_visible": true,
      "mount_file_id": "1tnFsBnyybMC8q4n0RMC2SCEQBESaFfA3",
      "authorship_tag": "ABX9TyNwEN+mrp4n6jMfCaGgbNgG",
      "include_colab_link": true
    },
    "kernelspec": {
      "name": "python3",
      "display_name": "Python 3"
    },
    "language_info": {
      "name": "python"
    }
  },
  "cells": [
    {
      "cell_type": "markdown",
      "metadata": {
        "id": "view-in-github",
        "colab_type": "text"
      },
      "source": [
        "<a href=\"https://colab.research.google.com/github/gsfreitas/engenharia-medica/blob/main/atividade_pratica_9.ipynb\" target=\"_parent\"><img src=\"https://colab.research.google.com/assets/colab-badge.svg\" alt=\"Open In Colab\"/></a>"
      ]
    },
    {
      "cell_type": "markdown",
      "source": [
        "# Funções e bibliotecas"
      ],
      "metadata": {
        "id": "jx4cPW-txltZ"
      }
    },
    {
      "cell_type": "code",
      "execution_count": 26,
      "metadata": {
        "id": "m-_rbBATxY-g"
      },
      "outputs": [],
      "source": [
        "# importando as bibliotecas\n",
        "import matplotlib.pyplot as plt\n",
        "import numpy as np\n",
        "import scipy.stats as st\n",
        "from scipy.stats import shapiro\n",
        "import itertools\n",
        "import scipy.io\n",
        "import scipy.fft as fft\n",
        "from scipy.signal import welch\n",
        "from sklearn import svm\n",
        "import seaborn as sns\n",
        "from sklearn.model_selection import RepeatedStratifiedKFold\n",
        "from sklearn.metrics import confusion_matrix\n",
        "from sklearn.model_selection import StratifiedKFold\n",
        "from sklearn.model_selection import KFold"
      ]
    },
    {
      "cell_type": "code",
      "source": [
        "def t8_SVM(X, classesX, C=0.1, kernel='linear', tol=0.001, gamma='scale'):\n",
        "    # Treina uma SVM em um conjunto de dados X\n",
        "    # INPUTS:\n",
        "    # - X: matriz padrões x características\n",
        "    # - classesX: vetor com as classes dos padrões (0 ou 1)\n",
        "    # - C, kernel e tol são os parâmetros da SVM\n",
        "    #   (C é o parâmetro de penalização do termo de erro, kernel especifica o tipo de kernel,\n",
        "    #   tol é a tolerância para a otimização e gamma controla o tamanho da margem)\n",
        "    # OUTPUTS:\n",
        "    # - clf: objeto da SVM treinado\n",
        "    # - txerro: erro de treinamento\n",
        "\n",
        "    # Cria um objeto SVM com os parâmetros especificados\n",
        "    clf = svm.SVC(C=C, kernel=kernel, tol=tol, gamma=gamma)\n",
        "\n",
        "    # Treina o SVM com os dados fornecidos\n",
        "    clf.fit(X, classesX)\n",
        "\n",
        "    # Imprime o número de vetores de suporte para cada classe\n",
        "    for i in range(len(clf.n_support_)):\n",
        "        print('Número de vetores de suporte para a classe ' + str(i) + ': ' + str(clf.n_support_[i]))\n",
        "\n",
        "    # Faz previsões nos dados de treinamento\n",
        "    y = clf.predict(X)\n",
        "\n",
        "    # Calcula a taxa de erro de treinamento\n",
        "    txerro = sum(y != classesX) / classesX.size\n",
        "    print('Taxa de erro de treinamento: ' + str(100 * txerro) + '%')\n",
        "\n",
        "    return clf, txerro"
      ],
      "metadata": {
        "id": "I2wY2OVKScJr"
      },
      "execution_count": 59,
      "outputs": []
    },
    {
      "cell_type": "code",
      "source": [
        "def obter_indices_kfold(matriz, k, fold_desejado):\n",
        "    # Inicializa o objeto KFold\n",
        "    kf = KFold(n_splits=k, shuffle=True)\n",
        "\n",
        "    # Itera sobre os folds\n",
        "    for i, (train_index, val_index) in enumerate(kf.split(matriz[0])):\n",
        "        if i == fold_desejado:\n",
        "            # Retorna os índices de treinamento e validação do fold desejado\n",
        "            return train_index, val_index"
      ],
      "metadata": {
        "id": "LYHnBTT8PHMO"
      },
      "execution_count": 27,
      "outputs": []
    },
    {
      "cell_type": "code",
      "source": [
        "def avaliaclasslinear(w,classenegativa,classepositiva):\n",
        "    #w = matriz de pesos do classificador linear em L+1 dimensoes\n",
        "    #classe1 = matriz L x N1 da classe negativa\n",
        "    #classe2 = matriz L x N2 da classe positiva\n",
        "    # fp = percentual de falsos positivos\n",
        "    # fn = percentual de falsos negativos\n",
        "    # acc = acurácia do classificador\n",
        "    (_,N1) = np.shape(classenegativa)\n",
        "    (_,N2) = np.shape(classepositiva)\n",
        "    classenegativa=np.vstack((classenegativa,np.ones(N1)))\n",
        "    classepositiva=np.vstack((classepositiva,np.ones(N2)))\n",
        "    prevneg=np.sign(w @ classenegativa)\n",
        "    prevpos=np.sign(w @ classepositiva)\n",
        "    fp = 100*np.sum(prevneg>=0)/N1\n",
        "    fn = 100*np.sum(prevpos<0)/N2\n",
        "    vp = 100 - fn\n",
        "    vn = 100 - fp\n",
        "    # Sensibilidade\n",
        "    sensibilidade = vp / (vp + fn) * 100\n",
        "    # Especificidade\n",
        "    especificidade = vn / (vn + fp) * 100\n",
        "    acc = 100*(np.sum(prevneg<0) + np.sum(prevpos>=0))/(N1+N2)\n",
        "    if acc<50: # classe negativa e positiva estao trocadas\n",
        "        fp,fn,acc=avaliaclasslinear(w,classepositiva,classenegativa)\n",
        "    return fp, fn, vp, vn, sensibilidade, especificidade, acc"
      ],
      "metadata": {
        "id": "e7BesAJWPOpg"
      },
      "execution_count": 46,
      "outputs": []
    },
    {
      "cell_type": "code",
      "source": [
        "def t4_svd(dados,m):\n",
        "    #Realiza a transformação do espaço de características usando a PCA:\n",
        "    #Inputs:\n",
        "    # - dados= matriz L x N (caracteristicas x padroes)\n",
        "    # - m = dimensão do espaço de componentes principais\n",
        "    #Outputs:\n",
        "    # - w = autovalores\n",
        "    # - v = autovetores\n",
        "    # - mse = erro quadrático médio da projeção\n",
        "    # - dadosproj = matriz contendo os dados projetados\n",
        "\n",
        "    # Inicializa uma matriz de zeros do mesmo formato que dados\n",
        "    dadosnm=np.zeros_like(dados)\n",
        "\n",
        "    # Normaliza os dados em relação à média em cada característica (linha)\n",
        "    for i in range(np.size(dadosnm,axis=0)):\n",
        "        dadosnm[i,:]=dadosnm[i,:]-np.mean(dadosnm[i,:])\n",
        "\n",
        "    # Realiza a decomposição de valores singulares (SVD)\n",
        "    U,D,VT=np.linalg.svd(dadosnm)\n",
        "\n",
        "    # Calcula os autovalores\n",
        "    w=D**2/np.size(dadosnm,axis=1)\n",
        "\n",
        "    # Obtém os índices dos autovalores em ordem decrescente\n",
        "    comps=w.argsort()[::-1] #ordem decrescente\n",
        "\n",
        "    # Seleciona os primeiros m índices para os componentes principais\n",
        "    comps=list(comps[0:m])\n",
        "\n",
        "    # Obtém os autovetores correspondentes\n",
        "    v=U[:,comps]\n",
        "\n",
        "    # Projeta os dados no novo espaço de características\n",
        "    dadosproj=np.dot(v.T,dadosnm)\n",
        "\n",
        "    # Se m é igual a 1, retorna uma matriz unidimensional em vez de uma matriz bidimensional\n",
        "    if m==1:\n",
        "         dadosproj=dadosproj[0]\n",
        "\n",
        "    # Calcula o erro quadrático médio da projeção\n",
        "    mse=100*(1-sum(w[comps])/sum(w))\n",
        "\n",
        "    # Retorna os autovalores, o erro quadrático médio, os dados projetados e os autovetores\n",
        "    w=w[comps]\n",
        "    return w,mse,dadosproj,v"
      ],
      "metadata": {
        "id": "hPWZTO2R7sDI"
      },
      "execution_count": 29,
      "outputs": []
    },
    {
      "cell_type": "code",
      "source": [
        "def t6_perceptron(classe1, classe2, rho=0.05, maxsteps=10000):\n",
        "    # Implementação do Perceptron para duas classes\n",
        "    # INPUTS:\n",
        "    # - classe1: L x N1 da primeira classe (características x padrões)\n",
        "    # - classe2: L x N2 da segunda classe (características x padrões)\n",
        "    # - rho: parâmetro de aprendizado (learning rate)\n",
        "    # - maxsteps: número máximo de iterações\n",
        "    # OUTPUT:\n",
        "    # - ws: vetor com os pesos do classificador\n",
        "    # - hs: indica se o perceptron convergiu (=0) ou não convergiu (número de erros do perceptron)\n",
        "    # - t: número de iterações realizadas\n",
        "\n",
        "    L1, N1 = np.shape(classe1)\n",
        "    L2, N2 = np.shape(classe2)\n",
        "\n",
        "    # Verifica se as classes têm o mesmo número de características\n",
        "    if L1 != L2:\n",
        "        print('ERRO: Classes devem ter o mesmo número de características')\n",
        "        return\n",
        "\n",
        "    # Combina as duas classes e adiciona uma linha de uns para o termo de viés\n",
        "    X = np.hstack((classe1, classe2))\n",
        "    C = np.hstack((-np.ones(N1,), np.ones(N2,)))\n",
        "    X = np.vstack((X, np.ones((1, N1 + N2))))\n",
        "\n",
        "    # Inicializa os pesos aleatoriamente\n",
        "    w = np.random.randn(L1 + 1,)\n",
        "    ws = w\n",
        "\n",
        "    def classifica(w, X, C):\n",
        "        # Função para classificar os padrões e calcular os erros\n",
        "        res = np.sign(np.dot(w.T, X))\n",
        "        Y = X[:, res * C <= 0]\n",
        "        CY = -C[res * C <= 0]\n",
        "        return Y, CY\n",
        "\n",
        "    # Inicializa as variáveis de erro e iteração\n",
        "    (Y, CY) = classifica(w, X, C)\n",
        "    hs = np.shape(Y)[1]\n",
        "    t = 0\n",
        "\n",
        "    # Loop de treinamento do perceptron\n",
        "    while ((hs > 0) & (t < maxsteps)):\n",
        "        for i in range(L1 + 1):\n",
        "            w[i] = w[i] - np.sum(rho * Y[i, :] * CY)\n",
        "\n",
        "        [Y, CY] = classifica(w, X, C)\n",
        "        t = t + 1\n",
        "        ht = np.shape(Y)[1]\n",
        "\n",
        "        # Atualiza a variável de erro\n",
        "        if ht < hs:\n",
        "            hs = ht\n",
        "            ws = w\n",
        "\n",
        "    # Verifica se o perceptron convergiu\n",
        "    if hs == 0:\n",
        "        print('Perceptron convergiu')\n",
        "    else:\n",
        "        print('Limite de iterações atingido')\n",
        "\n",
        "    return ws, hs, t"
      ],
      "metadata": {
        "id": "F6ogWw5K730Y"
      },
      "execution_count": 30,
      "outputs": []
    },
    {
      "cell_type": "code",
      "source": [
        "def t4_pca(dados, m):\n",
        "    # Realiza a transformação do espaço de características usando a PCA:\n",
        "    # Inputs:\n",
        "    # - dados = matriz L x N (caracteristicas x padroes)\n",
        "    # - m = dimensão do espaço de componentes principais\n",
        "    # Outputs:\n",
        "    # - w = autovalores\n",
        "    # - v = autovetores\n",
        "    # - mse = erro quadrático médio da projeção\n",
        "    # - dadosproj = matriz contendo os dados projetados\n",
        "\n",
        "    # Calcula a matriz de covariância\n",
        "    Sigma = np.cov(dados, ddof=0)\n",
        "\n",
        "    # Calcula os autovalores (w) e autovetores (v) da matriz de covariância\n",
        "    w, v = np.linalg.eigh(Sigma)  # v: colunas são os autovetores\n",
        "\n",
        "    # Ordena em ordem decrescente\n",
        "    comps = w.argsort()[::-1]\n",
        "    comps = list(comps[0:m])\n",
        "\n",
        "    # Seleciona os autovetores correspondentes ao número desejado de componentes principais (m)\n",
        "    v = v[:, comps]\n",
        "\n",
        "    # Projeta os dados no novo espaço de características\n",
        "    dadosproj = np.dot(v.T, dados)\n",
        "\n",
        "    # Reduz a dimensão para 1D se m for igual a 1\n",
        "    if m == 1:\n",
        "        dadosproj = dadosproj[0]\n",
        "\n",
        "    # Calcula o erro quadrático médio da projeção\n",
        "    mse = 100 * (1 - sum(w[comps]) / sum(w))\n",
        "\n",
        "    # Retorna os resultados\n",
        "    w = w[comps]\n",
        "    return w, mse, dadosproj, v"
      ],
      "metadata": {
        "id": "k56rxQVn9fQq"
      },
      "execution_count": 31,
      "outputs": []
    },
    {
      "cell_type": "code",
      "source": [
        "def t3_matrizesdeespalhamento(classes, selcars):\n",
        "    # Calcula as matrizes de espalhamento a partir de uma lista de classes\n",
        "    # Inputs:\n",
        "    # - classes = lista em que cada elemento corresponde a um array características x padrões de cada classe\n",
        "    # - selcars = índice de quais características usar no cálculo das matrizes\n",
        "    # Outputs:\n",
        "    # - matrizes de espalhamento: SW, SM e SB\n",
        "\n",
        "    Ncl = len(classes)\n",
        "    mean_vectors = []\n",
        "\n",
        "    # Calcula os vetores médios de cada classe\n",
        "    for cl in range(Ncl):\n",
        "        mean_vectors.append(np.mean(classes[cl][selcars, :], axis=1))\n",
        "\n",
        "    prob = np.zeros(Ncl)\n",
        "    N = 0\n",
        "\n",
        "    # Calcula as probabilidades de cada classe\n",
        "    for i in range(Ncl):\n",
        "        prob[i] = np.size(classes[i][selcars, :], axis=1)\n",
        "        N = N + prob[i]\n",
        "\n",
        "    prob = prob / N\n",
        "    Ncar = len(selcars)\n",
        "    SW = np.zeros((Ncar, Ncar))  # within classes\n",
        "\n",
        "    # Calcula a matriz de espalhamento dentro das classes (SW)\n",
        "    for cl in range(Ncl):\n",
        "        varwithin = np.cov(classes[cl][selcars, :], ddof=0)\n",
        "        SW = SW + prob[cl] * varwithin\n",
        "\n",
        "    # Concatena todas as classes em uma única matriz\n",
        "    allclasses = classes[0][selcars, :]\n",
        "    for cl in range(Ncl - 1):\n",
        "        allclasses = np.concatenate((allclasses, classes[cl + 1][selcars, :]), axis=1)\n",
        "\n",
        "    # Calcula a matriz de espalhamento total (SM)\n",
        "    SM = np.cov(allclasses, ddof=0)\n",
        "\n",
        "    # Calcula a matriz de espalhamento entre as classes (SB)\n",
        "    SB = SM - SW\n",
        "\n",
        "    return SW, SM, SB"
      ],
      "metadata": {
        "id": "ZvDf_aFM-fxY"
      },
      "execution_count": 32,
      "outputs": []
    },
    {
      "cell_type": "code",
      "source": [
        "def t7_FDA(classes, n):\n",
        "    # Encontra a transformação para o espaço da Análise Discriminante Linear de Fisher entre classes distintas\n",
        "    # INPUT:\n",
        "    # - classes: lista de classes. classes[i] = (L x Ni): L características e Ni padrões na classe i\n",
        "    # - n = número de características para selecionar\n",
        "    # OUTPUT:\n",
        "    # - A: matriz de projeção (as colunas são os vetores de projeção para o novo espaço)\n",
        "    # - Lambda: autovalores\n",
        "\n",
        "    C = len(classes)\n",
        "    L = np.size(classes[0], axis=0)\n",
        "\n",
        "    # Verifica se todas as classes têm a mesma dimensão\n",
        "    for i in range(C):\n",
        "        if np.size(classes[i], axis=0) != L:\n",
        "            print('ERRO: Confira a dimensão das variáveis de input')\n",
        "            return\n",
        "\n",
        "    # Calcula as matrizes de espalhamento\n",
        "    SW, SM, SB = t3_matrizesdeespalhamento(classes, range(L))\n",
        "\n",
        "    # Calcula os autovalores e autovetores da matriz generalizada\n",
        "    (Lambda, Vec) = np.linalg.eig(np.dot(np.linalg.inv(SW), SB))\n",
        "\n",
        "    # Ordena os autovalores e autovetores em ordem decrescente\n",
        "    s = Lambda.argsort()\n",
        "    Lambda = Lambda[s[::-1]]\n",
        "    Vec = Vec[:, s[::-1]]\n",
        "\n",
        "    # Seleciona as n primeiras colunas dos autovetores\n",
        "    A = np.real(Vec[:, 0:n])\n",
        "    Lambda = Lambda[0:n]\n",
        "\n",
        "    return A, Lambda"
      ],
      "metadata": {
        "id": "-Q8Zuxsr-aF6"
      },
      "execution_count": 33,
      "outputs": []
    },
    {
      "cell_type": "markdown",
      "source": [
        "# Teste completo de um classificador"
      ],
      "metadata": {
        "id": "XcfT30N5x0_c"
      }
    },
    {
      "cell_type": "markdown",
      "source": [
        "No arquivo Dados.mat disponível no Classroom do curso você encontra duas variáveis, “Saudável” e “Patologico”, correspondendo a duas classes em um espaço de 1000 características, já pré-processadas. Nesta atividade você deverá realizar o teste completo de estratégias de classificação unidimensionais usando a FDA."
      ],
      "metadata": {
        "id": "9Wkm_S6nx55_"
      }
    },
    {
      "cell_type": "markdown",
      "source": [
        "**A)** Para isso, você deve treinar pelo menos duas estratégias diferentes de classificação nestes dados que utilizem a FDA e validar os hiperparâmetros do seu classificador com uma validação cruzada 3-fold repetida 10 vezes. Reporte os resultados da sua validação, selecionando a estratégia que você julgar melhor."
      ],
      "metadata": {
        "id": "ZBeGK4VnyAUn"
      }
    },
    {
      "cell_type": "code",
      "source": [
        "# lendo os dados e transpondo para ficar no formato carac x padrao\n",
        "patologico = scipy.io.loadmat(r'/content/drive/MyDrive/ict-unifesp/2023.2/engenharia-medica/atividade-pratica-9/dados.mat')['Patologico'].T\n",
        "patologico_teste = scipy.io.loadmat(r'/content/drive/MyDrive/ict-unifesp/2023.2/engenharia-medica/atividade-pratica-9/dados.mat')['Patologico_teste'].T\n",
        "\n",
        "saudavel = scipy.io.loadmat(r'/content/drive/MyDrive/ict-unifesp/2023.2/engenharia-medica/atividade-pratica-9/dados.mat')['Saudavel'].T\n",
        "saudavel_teste = scipy.io.loadmat(r'/content/drive/MyDrive/ict-unifesp/2023.2/engenharia-medica/atividade-pratica-9/dados.mat')['Saudavel_teste'].T"
      ],
      "metadata": {
        "id": "0XF1zvG7x4dI"
      },
      "execution_count": 34,
      "outputs": []
    },
    {
      "cell_type": "markdown",
      "source": [
        "Inicialmente vamos verificar se as classes são linearmente separáveis utilizando o Perceptron. Caso ele venha a convergir, então as classes são separáveis. Contudo, caso ele atinja o número máximo de iterações, então é necessário realizar a redução de dimensionalidade"
      ],
      "metadata": {
        "id": "c1QeXNnx50pH"
      }
    },
    {
      "cell_type": "code",
      "source": [
        "# calculando o perceptron para as duas classes\n",
        "ws, hs, t = t6_perceptron(saudavel, patologico, rho=0.05, maxsteps=10000)"
      ],
      "metadata": {
        "colab": {
          "base_uri": "https://localhost:8080/"
        },
        "id": "RJAUbdDQ5wHY",
        "outputId": "8ab49d36-cf19-4eac-8325-2f020c2cb879"
      },
      "execution_count": 35,
      "outputs": [
        {
          "output_type": "stream",
          "name": "stdout",
          "text": [
            "Perceptron convergiu\n"
          ]
        }
      ]
    },
    {
      "cell_type": "markdown",
      "source": [
        "Podemos perceber que o perceptron convergiu! COntudo, devemos reduzir a dimensão dos dados, uma vez que para utilizar o Análise Discriminante de Fisher devemos garantir que a matriz de espalhamento intra-classe seja invesível,o que pode não ocorrer se trabalhássemos em 1000 dimensões.\n",
        "\n",
        "Para realizar a transformação do espaço de características e reduzir a dimensão, utilizaremos a PCA como estratégia principal para isso."
      ],
      "metadata": {
        "id": "sAGrgtsN8MPh"
      }
    },
    {
      "cell_type": "code",
      "source": [
        "# juntando todos os dados\n",
        "dados = np.hstack([saudavel, patologico])\n",
        "\n",
        "# implementando o label das classes\n",
        "classe_saudavel = np.zeros_like(saudavel[0,:])\n",
        "classe_patologico = np.ones_like(patologico[0,:])"
      ],
      "metadata": {
        "id": "BXHJ7U4w8CL6"
      },
      "execution_count": 36,
      "outputs": []
    },
    {
      "cell_type": "markdown",
      "source": [
        "Vamos escolher m = 93, por representar 2/3 dos dados para que não haja problema ao rodar o 3 folds."
      ],
      "metadata": {
        "id": "fZZGK7069iZg"
      }
    },
    {
      "cell_type": "code",
      "source": [
        "# juntando as duas classes em uma lista\n",
        "classes = np.hstack([classe_saudavel, classe_patologico])\n",
        "\n",
        "# calculando a PCA\n",
        "w, mse, dadosproj, v = t4_pca(dados, m=93)"
      ],
      "metadata": {
        "id": "cPF-XmVN9JBI"
      },
      "execution_count": 37,
      "outputs": []
    },
    {
      "cell_type": "code",
      "source": [
        "# separando as classes com base no novo espaço projetado pela PCA\n",
        "saudavel = dadosproj.T[classes == 0].T\n",
        "patologico = dadosproj.T[classes == 1].T"
      ],
      "metadata": {
        "id": "WfLDJQJ89hgA"
      },
      "execution_count": 38,
      "outputs": []
    },
    {
      "cell_type": "code",
      "source": [
        "# juntando novamente os novos dados em uma lista\n",
        "dados_new = [saudavel, patologico]\n",
        "\n",
        "# calculando a FDA para projetar os dados em 1 dimensão\n",
        "A, Lambda = t7_FDA(dados_new, n=1)\n",
        "\n",
        "# projetando os dados na nova dimensao\n",
        "dadosproj_FDA = np.dot(A.T, dadosproj)"
      ],
      "metadata": {
        "id": "2aiY9clL-AFx"
      },
      "execution_count": 39,
      "outputs": []
    },
    {
      "cell_type": "code",
      "source": [
        "# separando as classes a partir do novo espaco da FDA\n",
        "saudavel_FDA = dadosproj_FDA.T[classes == 0]\n",
        "patologico_FDA = dadosproj_FDA.T[classes == 1]"
      ],
      "metadata": {
        "id": "8r22xfnn-ht3"
      },
      "execution_count": 40,
      "outputs": []
    },
    {
      "cell_type": "code",
      "source": [
        "saudavel_FDA.shape"
      ],
      "metadata": {
        "colab": {
          "base_uri": "https://localhost:8080/"
        },
        "id": "c7fDgBRV_Jpd",
        "outputId": "41a53921-ebd5-4ba7-be2a-5d7ed6565906"
      },
      "execution_count": 41,
      "outputs": [
        {
          "output_type": "execute_result",
          "data": {
            "text/plain": [
              "(70, 1)"
            ]
          },
          "metadata": {},
          "execution_count": 41
        }
      ]
    },
    {
      "cell_type": "code",
      "source": [
        "# plot do espaco da FDA\n",
        "plt.figure()\n",
        "plt.scatter(np.arange(0, len(saudavel_FDA),1), saudavel_FDA[:,0])\n",
        "plt.scatter(np.arange(0, len(patologico_FDA),1), patologico_FDA[:,0])\n",
        "plt.show()"
      ],
      "metadata": {
        "colab": {
          "base_uri": "https://localhost:8080/",
          "height": 430
        },
        "id": "tOLSHcdv-74M",
        "outputId": "d730deaa-8d71-4d75-be01-73d103d6bc2c"
      },
      "execution_count": 42,
      "outputs": [
        {
          "output_type": "display_data",
          "data": {
            "text/plain": [
              "<Figure size 640x480 with 1 Axes>"
            ],
            "image/png": "[encoded data removed]"
          },
          "metadata": {}
        }
      ]
    },
    {
      "cell_type": "code",
      "source": [
        "# Defina o número de repetições (10 no seu caso)\n",
        "num_repeticoes = 10\n",
        "k = 3\n",
        "\n",
        "# Inicialize as listas para armazenar os resultados\n",
        "Sensibilidades_perceptron_train = []\n",
        "Especificidades_perceptron_train = []\n",
        "Fn_perceptron_train = []\n",
        "Fp_perceptron_train = []\n",
        "Vp_perceptron_train = []\n",
        "Vn_perceptron_train = []\n",
        "Sensibilidades_perceptron_train = []\n",
        "Especificidades_perceptron_train = []\n",
        "Acc_perceptron_train = []\n",
        "\n",
        "Sensibilidades_perceptron_val = []\n",
        "Especificidades_perceptron_val = []\n",
        "Fn_perceptron_val = []\n",
        "Fp_perceptron_val = []\n",
        "Vp_perceptron_val = []\n",
        "Vn_perceptron_val = []\n",
        "Sensibilidades_perceptron_val = []\n",
        "Especificidades_perceptron_val = []\n",
        "Acc_perceptron_val = []\n",
        "\n",
        "\n",
        "Fn_svm_train = []\n",
        "Fp_svm_train = []\n",
        "Vp_svm_train = []\n",
        "Vn_svm_train = []\n",
        "Sensibilidades_svm_train = []\n",
        "Especificidades_svm_train = []\n",
        "Acc_svm_train = []\n",
        "\n",
        "\n",
        "Fn_svm_val = []\n",
        "Fp_svm_val = []\n",
        "Vp_svm_val = []\n",
        "Vn_svm_val = []\n",
        "Sensibilidades_svm_val = []\n",
        "Especificidades_svm_val = []\n",
        "Acc_svm_val = []"
      ],
      "metadata": {
        "id": "Yuzlv9UZ--JL"
      },
      "execution_count": 56,
      "outputs": []
    },
    {
      "cell_type": "code",
      "source": [
        "# zera os parametros de acuracia\n",
        "Acc_melhor_w = 0\n",
        "Acc_melhor_clf = 0"
      ],
      "metadata": {
        "id": "aCBPLij6_3Fm"
      },
      "execution_count": 57,
      "outputs": []
    },
    {
      "cell_type": "code",
      "source": [
        "for i in range(num_repeticoes):\n",
        "    for fold_desejado in range(k):\n",
        "        np.random.seed(i)\n",
        "        train_index, val_index = obter_indices_kfold(dadosproj_FDA, k, fold_desejado=fold_desejado)\n",
        "\n",
        "        fold_treino = dadosproj_FDA[:,train_index]\n",
        "        fold_val = dadosproj_FDA[:, val_index]\n",
        "        classes_treino = classes[train_index]\n",
        "        classes_val = classes[val_index]\n",
        "\n",
        "        # Perceptron\n",
        "        # Treinamento\n",
        "        Saudavel_treino = fold_treino.T[classes_treino == 0].T\n",
        "        Patologico_treino = fold_treino.T[classes_treino == 1].T\n",
        "\n",
        "        ws, hs, t = t6_perceptron(Saudavel_treino, Patologico_treino, rho=0.01, maxsteps=10000)\n",
        "\n",
        "        Fn, Fp, Vp, Vn, sensibilidade, especificidade, Acc_train_p = avaliaclasslinear(ws,Saudavel_treino,Patologico_treino)\n",
        "        Fn_perceptron_train.append(Fn)\n",
        "        Fp_perceptron_train.append(Fp)\n",
        "        Vp_perceptron_train.append(Vp)\n",
        "        Vn_perceptron_train.append(Vn)\n",
        "        Sensibilidades_perceptron_train.append(sensibilidade)\n",
        "        Especificidades_perceptron_train.append(especificidade)\n",
        "        Acc_perceptron_train.append(Acc_train_p)\n",
        "\n",
        "\n",
        "        # Validacao\n",
        "        Saudavel_val = fold_val.T[classes_val == 0].T\n",
        "        Patologico_val = fold_val.T[classes_val == 1].T\n",
        "        Fn, Fp, Vp, Vn, sensibilidade, especificidade, Acc = avaliaclasslinear(ws,Saudavel_val,Patologico_val)\n",
        "        Fn_perceptron_val.append(Fn)\n",
        "        Fp_perceptron_val.append(Fp)\n",
        "        Vp_perceptron_val.append(Vp)\n",
        "        Vn_perceptron_val.append(Vn)\n",
        "        Sensibilidades_perceptron_val.append(sensibilidade)\n",
        "        Especificidades_perceptron_val.append(especificidade)\n",
        "        Acc_perceptron_val.append(Acc)\n",
        "\n",
        "\n",
        "        if Acc_melhor_w > Acc_train_p:\n",
        "            continue\n",
        "        else:\n",
        "            melhor_w = ws\n",
        "            Acc_melhor_w = Acc_train_p\n",
        "\n",
        "        # SVM\n",
        "        clf, txerro = t8_SVM(fold_treino.T, classes_treino, C=2)\n",
        "        predicoes = clf.predict(fold_treino.T)\n",
        "        conf_matrix_svm = confusion_matrix(classes_treino, predicoes)\n",
        "        Fn = conf_matrix_svm[1,0]\n",
        "        Fp= conf_matrix_svm[0,1]\n",
        "        Vp = conf_matrix_svm[0,0]\n",
        "        Vn = conf_matrix_svm[1,1]\n",
        "        # Sensibilidade\n",
        "        sensibilidade = Vp / (Vp + Fn) * 100\n",
        "        # Especificidade\n",
        "        especificidade = Vn / (Vn + Fp) * 100\n",
        "\n",
        "        Acc_train_svm = (Vp+Vn) / (Vp+Vn+Fp+Fn)\n",
        "\n",
        "        Fn_svm_train.append(Fn)\n",
        "        Fp_svm_train.append(Fp)\n",
        "        Vp_svm_train.append(Vp)\n",
        "        Vn_svm_train.append(Vn)\n",
        "        Sensibilidades_svm_train.append(sensibilidade)\n",
        "        Especificidades_svm_train.append(especificidade)\n",
        "        Acc_svm_train.append(Acc_train_svm)\n",
        "\n",
        "        # Validacao\n",
        "        predicoes = clf.predict(fold_val.T)\n",
        "        conf_matrix_svm = confusion_matrix(classes_val, predicoes)\n",
        "        Fn = conf_matrix_svm[1,0]\n",
        "        Fp= conf_matrix_svm[0,1]\n",
        "        Vp = conf_matrix_svm[0,0]\n",
        "        Vn = conf_matrix_svm[1,1]\n",
        "        # Sensibilidade (Recall)\n",
        "        sensibilidade = Vp / (Vp + Fn) * 100\n",
        "        # Especificidade\n",
        "        especificidade = Vn / (Vn + Fp) * 100\n",
        "\n",
        "        acc = (Vp+Vn) / (Vp+Vn+Fp+Fn)\n",
        "\n",
        "        Fn_svm_val.append(Fn)\n",
        "        Fp_svm_val.append(Fp)\n",
        "        Vp_svm_val.append(Vp)\n",
        "        Vn_svm_val.append(Vn)\n",
        "        Sensibilidades_svm_val.append(sensibilidade)\n",
        "        Especificidades_svm_val.append(especificidade)\n",
        "        Acc_svm_val.append(acc)\n",
        "\n",
        "        if Acc_melhor_clf > Acc_train_svm:\n",
        "            continue\n",
        "        else:\n",
        "            melhor_clf = clf\n",
        "            Acc_melhor_clf = Acc_train_svm"
      ],
      "metadata": {
        "id": "38Koq5rKBVkx",
        "colab": {
          "base_uri": "https://localhost:8080/"
        },
        "outputId": "a9a3837c-7ada-468f-ea21-3b8c8c0d0654"
      },
      "execution_count": 60,
      "outputs": [
        {
          "output_type": "stream",
          "name": "stdout",
          "text": [
            "Perceptron convergiu\n",
            "Número de vetores de suporte para a classe 0: 1\n",
            "Número de vetores de suporte para a classe 1: 1\n",
            "Taxa de erro de treinamento: 0.0%\n",
            "Perceptron convergiu\n",
            "Número de vetores de suporte para a classe 0: 1\n",
            "Número de vetores de suporte para a classe 1: 1\n",
            "Taxa de erro de treinamento: 0.0%\n",
            "Perceptron convergiu\n",
            "Número de vetores de suporte para a classe 0: 1\n",
            "Número de vetores de suporte para a classe 1: 1\n",
            "Taxa de erro de treinamento: 0.0%\n",
            "Perceptron convergiu\n",
            "Número de vetores de suporte para a classe 0: 1\n",
            "Número de vetores de suporte para a classe 1: 1\n",
            "Taxa de erro de treinamento: 0.0%\n",
            "Perceptron convergiu\n",
            "Número de vetores de suporte para a classe 0: 1\n",
            "Número de vetores de suporte para a classe 1: 1\n",
            "Taxa de erro de treinamento: 0.0%\n",
            "Perceptron convergiu\n",
            "Número de vetores de suporte para a classe 0: 1\n",
            "Número de vetores de suporte para a classe 1: 1\n",
            "Taxa de erro de treinamento: 0.0%\n",
            "Perceptron convergiu\n",
            "Número de vetores de suporte para a classe 0: 1\n",
            "Número de vetores de suporte para a classe 1: 1\n",
            "Taxa de erro de treinamento: 0.0%\n",
            "Perceptron convergiu\n",
            "Número de vetores de suporte para a classe 0: 1\n",
            "Número de vetores de suporte para a classe 1: 1\n",
            "Taxa de erro de treinamento: 0.0%\n",
            "Perceptron convergiu\n",
            "Número de vetores de suporte para a classe 0: 1\n",
            "Número de vetores de suporte para a classe 1: 1\n",
            "Taxa de erro de treinamento: 0.0%\n",
            "Perceptron convergiu\n",
            "Número de vetores de suporte para a classe 0: 1\n",
            "Número de vetores de suporte para a classe 1: 1\n",
            "Taxa de erro de treinamento: 0.0%\n",
            "Perceptron convergiu\n",
            "Número de vetores de suporte para a classe 0: 1\n",
            "Número de vetores de suporte para a classe 1: 1\n",
            "Taxa de erro de treinamento: 0.0%\n",
            "Perceptron convergiu\n",
            "Número de vetores de suporte para a classe 0: 1\n",
            "Número de vetores de suporte para a classe 1: 1\n",
            "Taxa de erro de treinamento: 0.0%\n",
            "Perceptron convergiu\n",
            "Número de vetores de suporte para a classe 0: 1\n",
            "Número de vetores de suporte para a classe 1: 1\n",
            "Taxa de erro de treinamento: 0.0%\n",
            "Perceptron convergiu\n",
            "Número de vetores de suporte para a classe 0: 1\n",
            "Número de vetores de suporte para a classe 1: 1\n",
            "Taxa de erro de treinamento: 0.0%\n",
            "Perceptron convergiu\n",
            "Número de vetores de suporte para a classe 0: 1\n",
            "Número de vetores de suporte para a classe 1: 1\n",
            "Taxa de erro de treinamento: 0.0%\n",
            "Perceptron convergiu\n",
            "Número de vetores de suporte para a classe 0: 1\n",
            "Número de vetores de suporte para a classe 1: 1\n",
            "Taxa de erro de treinamento: 0.0%\n",
            "Perceptron convergiu\n",
            "Número de vetores de suporte para a classe 0: 1\n",
            "Número de vetores de suporte para a classe 1: 1\n",
            "Taxa de erro de treinamento: 0.0%\n",
            "Perceptron convergiu\n",
            "Número de vetores de suporte para a classe 0: 1\n",
            "Número de vetores de suporte para a classe 1: 1\n",
            "Taxa de erro de treinamento: 0.0%\n",
            "Perceptron convergiu\n",
            "Número de vetores de suporte para a classe 0: 1\n",
            "Número de vetores de suporte para a classe 1: 1\n",
            "Taxa de erro de treinamento: 0.0%\n",
            "Perceptron convergiu\n",
            "Número de vetores de suporte para a classe 0: 1\n",
            "Número de vetores de suporte para a classe 1: 1\n",
            "Taxa de erro de treinamento: 0.0%\n",
            "Perceptron convergiu\n",
            "Número de vetores de suporte para a classe 0: 1\n",
            "Número de vetores de suporte para a classe 1: 1\n",
            "Taxa de erro de treinamento: 0.0%\n",
            "Perceptron convergiu\n",
            "Número de vetores de suporte para a classe 0: 1\n",
            "Número de vetores de suporte para a classe 1: 1\n",
            "Taxa de erro de treinamento: 0.0%\n",
            "Perceptron convergiu\n",
            "Número de vetores de suporte para a classe 0: 1\n",
            "Número de vetores de suporte para a classe 1: 1\n",
            "Taxa de erro de treinamento: 0.0%\n",
            "Perceptron convergiu\n",
            "Número de vetores de suporte para a classe 0: 1\n",
            "Número de vetores de suporte para a classe 1: 1\n",
            "Taxa de erro de treinamento: 0.0%\n",
            "Perceptron convergiu\n",
            "Número de vetores de suporte para a classe 0: 1\n",
            "Número de vetores de suporte para a classe 1: 1\n",
            "Taxa de erro de treinamento: 0.0%\n",
            "Perceptron convergiu\n",
            "Número de vetores de suporte para a classe 0: 1\n",
            "Número de vetores de suporte para a classe 1: 1\n",
            "Taxa de erro de treinamento: 0.0%\n",
            "Perceptron convergiu\n",
            "Número de vetores de suporte para a classe 0: 1\n",
            "Número de vetores de suporte para a classe 1: 1\n",
            "Taxa de erro de treinamento: 0.0%\n",
            "Perceptron convergiu\n",
            "Número de vetores de suporte para a classe 0: 1\n",
            "Número de vetores de suporte para a classe 1: 1\n",
            "Taxa de erro de treinamento: 0.0%\n",
            "Perceptron convergiu\n",
            "Número de vetores de suporte para a classe 0: 1\n",
            "Número de vetores de suporte para a classe 1: 1\n",
            "Taxa de erro de treinamento: 0.0%\n",
            "Perceptron convergiu\n",
            "Número de vetores de suporte para a classe 0: 1\n",
            "Número de vetores de suporte para a classe 1: 1\n",
            "Taxa de erro de treinamento: 0.0%\n"
          ]
        }
      ]
    },
    {
      "cell_type": "markdown",
      "source": [
        "Vemos que ambos os métodos de classificao apresentaram bons resultados, porém para este caso apos a FDA, nosso conjunto de dados é pequeno e possuimos apenas 1 caracteristica, tendo assim o perceptron como melhor escolha, uma vez que seu custo computacional é menor."
      ],
      "metadata": {
        "id": "8BwI10M4SldJ"
      }
    },
    {
      "cell_type": "code",
      "source": [
        "# unindo os dados de teste\n",
        "dados_teste = np.hstack([saudavel_teste, patologico_teste])\n",
        "\n",
        "# separando as classes de teste\n",
        "classe_saud_teste = np.zeros_like(saudavel_teste[0,:])\n",
        "classe_pato_teste = np.ones_like(patologico_teste[0,:])"
      ],
      "metadata": {
        "id": "dQu6EjZTPY00"
      },
      "execution_count": 61,
      "outputs": []
    },
    {
      "cell_type": "code",
      "source": [
        "# projetando os dados\n",
        "dadosproj = np.dot(v.T, dados_teste)\n",
        "\n",
        "# juntando as classes após a projecao\n",
        "classes_teste = np.hstack([classe_saud_teste, classe_pato_teste])\n",
        "dadosproj_FDA_teste = np.dot(A.T, dadosproj)\n",
        "\n",
        "Saudavel_teste = dadosproj_FDA_teste.T[classes_teste == 0].T\n",
        "Patologico_teste = dadosproj_FDA_teste.T[classes_teste == 1].T\n",
        "Fn, Fp, Vp, Vn, sensibilidade, especificidade, Acc = avaliaclasslinear(melhor_w,Saudavel_teste,Patologico_teste)"
      ],
      "metadata": {
        "id": "biTPiYxbSyXY"
      },
      "execution_count": 63,
      "outputs": []
    },
    {
      "cell_type": "code",
      "source": [
        "print(f\"Taxa de Falso Positivo: {Fp}%\")\n",
        "print(f\"Taxa de Falso Negativo: {Fn}%\")\n",
        "print(f\"Acurária: {Acc}%\")\n",
        "print(f\"Sensibilidade: {sensibilidade}%\")\n",
        "print(f\"Especificidade: {especificidade}%\")"
      ],
      "metadata": {
        "colab": {
          "base_uri": "https://localhost:8080/"
        },
        "id": "h5kGjS-dVJaV",
        "outputId": "0184157e-dcfb-4182-a899-768037fb962a"
      },
      "execution_count": 66,
      "outputs": [
        {
          "output_type": "stream",
          "name": "stdout",
          "text": [
            "Taxa de Falso Positivo: 0.0%\n",
            "Taxa de Falso Negativo: 2.6315789473684212%\n",
            "Acurária: 98.18181818181819%\n",
            "Sensibilidade: 100.0%\n",
            "Especificidade: 97.36842105263158%\n"
          ]
        }
      ]
    },
    {
      "cell_type": "code",
      "source": [],
      "metadata": {
        "id": "aQqQA4_EVX8Q"
      },
      "execution_count": null,
      "outputs": []
    }
  ]
}