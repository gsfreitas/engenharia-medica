{
  "nbformat": 4,
  "nbformat_minor": 0,
  "metadata": {
    "colab": {
      "provenance": [],
      "mount_file_id": "1CaGVGme50-PcaE0RYJFTkj7aP3JJXeKl",
      "authorship_tag": "ABX9TyMWrLrdZJjsGex/MCa3aoNa",
      "include_colab_link": true
    },
    "kernelspec": {
      "name": "python3",
      "display_name": "Python 3"
    },
    "language_info": {
      "name": "python"
    }
  },
  "cells": [
    {
      "cell_type": "markdown",
      "metadata": {
        "id": "view-in-github",
        "colab_type": "text"
      },
      "source": [
        "<a href=\"https://colab.research.google.com/github/gsfreitas/engenharia-medica/blob/main/atividade_pratica_5.ipynb\" target=\"_parent\"><img src=\"https://colab.research.google.com/assets/colab-badge.svg\" alt=\"Open In Colab\"/></a>"
      ]
    },
    {
      "cell_type": "markdown",
      "source": [
        "A start-up de Engenharia Biomédica na qual você trabalha é apoiada por uma grande indústria farmacêutica que pretende desenvolver novos produtos para o tratamento do Diabetes. Como fruto desta parceria, você recebeu registros de\n",
        "variabilidade glicêmica de mais de 350 pacientes divididos em duas classes: pacientes com diabetes tipo 2 e indivíduos saudáveis do grupo controle. Os registros eram coletados pelos próprios pacientes em um protótipo de glicosímetro portátil automatizado e 9 biomarcadores foram extraídos a partir de tais registros. Tais biomarcadores estão disponíveis no arquivo .mat contido no material da aula 12 no Classroom *(o arquivo contém dois arrays: “Dados” = matriz com características por padrões; “Classes” = vetor com as classes de cada padrão, sendo 0 = indivíduos hígidos e 1 = pacientes com diabetes)*."
      ],
      "metadata": {
        "id": "7Oqx2zPsMLuo"
      }
    },
    {
      "cell_type": "code",
      "execution_count": null,
      "metadata": {
        "id": "KxploMDlL3k5"
      },
      "outputs": [],
      "source": [
        "# importando as bibliotecas\n",
        "import matplotlib.pyplot as plt\n",
        "import numpy as np\n",
        "import scipy.stats as st\n",
        "import itertools\n",
        "import scipy.io\n",
        "import scipy.fft as fft\n",
        "from scipy.signal import welch\n",
        "from sklearn import svm\n",
        "from scipy.stats import shapiro\n",
        "import seaborn as sns\n",
        "import operator"
      ]
    },
    {
      "cell_type": "code",
      "source": [
        "# leitura e tratamento dos dados\n",
        "data = scipy.io.loadmat(\"/content/drive/MyDrive/ict-unifesp/2023.2/engenharia-medica/atividade-pratica-5/Dados.mat\")['Dados']\n",
        "classes = scipy.io.loadmat(\"/content/drive/MyDrive/ict-unifesp/2023.2/engenharia-medica/atividade-pratica-5/Dados.mat\")['Classes']"
      ],
      "metadata": {
        "id": "FiwxmWxqMj4o"
      },
      "execution_count": null,
      "outputs": []
    },
    {
      "cell_type": "code",
      "source": [
        "# criando um vetor referência unidimensional\n",
        "mask = classes.ravel()\n",
        "\n",
        "# separando as classes\n",
        "higidos = data[:, mask==0]\n",
        "saudaveis = data[:, mask==1]"
      ],
      "metadata": {
        "id": "mzJUpAlsZhcj"
      },
      "execution_count": null,
      "outputs": []
    },
    {
      "cell_type": "markdown",
      "source": [
        "Prepare um espaço com três características escolhidas por você visando melhor separar as classes. O código deve plotar as duas classes no espaço tridimensional escolhido. Além disso, você deverá embasar, da maneira mais completa e apropriada que puder, a escolha realizada."
      ],
      "metadata": {
        "id": "BiIYsEYKcO4m"
      }
    },
    {
      "cell_type": "markdown",
      "source": [
        "Vamos realziar essa escolha baseando-se na seleção vetorial. Já que queremos obter as melhores características no espaço, então esse método é ideal, pois ele calcula a distância entre as classes para ficar mais nítida a distinção entre elas."
      ],
      "metadata": {
        "id": "f_LmLH-jeAh4"
      }
    },
    {
      "cell_type": "code",
      "source": [
        "def t3_remoutliers(padroes,p,method='desvio'):\n",
        "   #Encontra outlires baseando-se em dois métodos possiveis:\n",
        "    #  method = 'desvio': mediana +-p x desvio\n",
        "    #  method = 'quartis': quartis  +-p x intervalo entre quartis\n",
        "    # padroes = numpy array de uma característica (N x 1)\n",
        "    # p = numero de desvios ou de intervalos entre quartis a ser empregado\n",
        "    # retorna lista com as posicoes dos outliers no array\n",
        "    if method =='desvio':\n",
        "        md=np.median(padroes)\n",
        "        std=np.std(padroes,ddof=1)\n",
        "        th1=md+p*std\n",
        "        th2=md-p*std\n",
        "    elif method=='quartis':\n",
        "        q3, q1 = np.percentile(padroes, [75 ,25])\n",
        "        iqr=q3-q1\n",
        "        th1=q3+p*iqr\n",
        "        th2=q1-p*iqr\n",
        "    outliers=(padroes>th1) | (padroes<th2)\n",
        "    outs=[i for i, val in enumerate(outliers) if val]\n",
        "    return outs"
      ],
      "metadata": {
        "id": "xfYTBSFqfCid"
      },
      "execution_count": null,
      "outputs": []
    },
    {
      "cell_type": "code",
      "source": [
        "# criando array com o nome dos trechos\n",
        "trechos = ['higido', 'saudável']\n",
        "\n",
        "# criando listas para armazenar os outliers de cada trecho\n",
        "out_higidos = []\n",
        "out_saudaveis = []\n",
        "\n",
        "# iterando sobre cada lista para receber os outliers\n",
        "for index in range(0,4):\n",
        "  out_higidos.append(t3_remoutliers(higidos[:,index], 3, 'desvio'))\n",
        "  out_saudaveis.append(t3_remoutliers(saudaveis[:,index], 3, 'desvio'))\n",
        "\n",
        "# contando os valores únicos de outliers de cada trecho\n",
        "outliers = [list(set(valor for sublista in out_higidos for valor in sublista)),\n",
        "            list(set(valor for sublista in out_saudaveis for valor in sublista))]\n",
        "\n",
        "# print com a quantidade de outliers de cada trecho\n",
        "for index in range(len(outliers)):\n",
        "  print(f\"Quantidade de outliers {trechos[index]}: {len(outliers[index])}\")"
      ],
      "metadata": {
        "colab": {
          "base_uri": "https://localhost:8080/"
        },
        "id": "W5X52QrQbtBf",
        "outputId": "2d344684-7345-4de1-c3c7-dfca8c1e4bce"
      },
      "execution_count": null,
      "outputs": [
        {
          "output_type": "stream",
          "name": "stdout",
          "text": [
            "Quantidade de outliers higido: 1\n",
            "Quantidade de outliers saudável: 1\n"
          ]
        }
      ]
    },
    {
      "cell_type": "code",
      "source": [
        "# removendo os outliers\n",
        "for index in range(9):\n",
        "    no_out_higidos = np.delete(higidos, out_higidos[index], axis=0)\n",
        "    no_out_saudaveis = np.delete(saudaveis, out_saudaveis[index], axis=0)"
      ],
      "metadata": {
        "colab": {
          "base_uri": "https://localhost:8080/",
          "height": 227
        },
        "id": "JPa4vAVzfXop",
        "outputId": "da566fef-903d-4bb0-ddef-f27d72dfd5f0"
      },
      "execution_count": null,
      "outputs": [
        {
          "output_type": "error",
          "ename": "IndexError",
          "evalue": "ignored",
          "traceback": [
            "\u001b[0;31m---------------------------------------------------------------------------\u001b[0m",
            "\u001b[0;31mIndexError\u001b[0m                                Traceback (most recent call last)",
            "\u001b[0;32m<ipython-input-66-f6bd1fa00493>\u001b[0m in \u001b[0;36m<cell line: 2>\u001b[0;34m()\u001b[0m\n\u001b[1;32m      1\u001b[0m \u001b[0;31m# removendo os outliers\u001b[0m\u001b[0;34m\u001b[0m\u001b[0;34m\u001b[0m\u001b[0m\n\u001b[1;32m      2\u001b[0m \u001b[0;32mfor\u001b[0m \u001b[0mindex\u001b[0m \u001b[0;32min\u001b[0m \u001b[0mrange\u001b[0m\u001b[0;34m(\u001b[0m\u001b[0;36m9\u001b[0m\u001b[0;34m)\u001b[0m\u001b[0;34m:\u001b[0m\u001b[0;34m\u001b[0m\u001b[0;34m\u001b[0m\u001b[0m\n\u001b[0;32m----> 3\u001b[0;31m     \u001b[0mno_out_higidos\u001b[0m \u001b[0;34m=\u001b[0m \u001b[0mnp\u001b[0m\u001b[0;34m.\u001b[0m\u001b[0mdelete\u001b[0m\u001b[0;34m(\u001b[0m\u001b[0mhigidos\u001b[0m\u001b[0;34m,\u001b[0m \u001b[0mout_higidos\u001b[0m\u001b[0;34m[\u001b[0m\u001b[0mindex\u001b[0m\u001b[0;34m]\u001b[0m\u001b[0;34m,\u001b[0m \u001b[0maxis\u001b[0m\u001b[0;34m=\u001b[0m\u001b[0;36m0\u001b[0m\u001b[0;34m)\u001b[0m\u001b[0;34m\u001b[0m\u001b[0;34m\u001b[0m\u001b[0m\n\u001b[0m\u001b[1;32m      4\u001b[0m     \u001b[0mno_out_saudaveis\u001b[0m \u001b[0;34m=\u001b[0m \u001b[0mnp\u001b[0m\u001b[0;34m.\u001b[0m\u001b[0mdelete\u001b[0m\u001b[0;34m(\u001b[0m\u001b[0msaudaveis\u001b[0m\u001b[0;34m,\u001b[0m \u001b[0mout_saudaveis\u001b[0m\u001b[0;34m[\u001b[0m\u001b[0mindex\u001b[0m\u001b[0;34m]\u001b[0m\u001b[0;34m,\u001b[0m \u001b[0maxis\u001b[0m\u001b[0;34m=\u001b[0m\u001b[0;36m0\u001b[0m\u001b[0;34m)\u001b[0m\u001b[0;34m\u001b[0m\u001b[0;34m\u001b[0m\u001b[0m\n",
            "\u001b[0;31mIndexError\u001b[0m: list index out of range"
          ]
        }
      ]
    },
    {
      "cell_type": "code",
      "source": [],
      "metadata": {
        "id": "nyemxH-xf80j"
      },
      "execution_count": null,
      "outputs": []
    }
  ]
}