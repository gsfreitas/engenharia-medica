{
  "nbformat": 4,
  "nbformat_minor": 0,
  "metadata": {
    "colab": {
      "provenance": [],
      "mount_file_id": "17R_H31gWoM7xXn_OIfHN0c7Wh5njXUeW",
      "authorship_tag": "ABX9TyPmgQ+GH6i6A5B4TxRK8CPc",
      "include_colab_link": true
    },
    "kernelspec": {
      "name": "python3",
      "display_name": "Python 3"
    },
    "language_info": {
      "name": "python"
    }
  },
  "cells": [
    {
      "cell_type": "markdown",
      "metadata": {
        "id": "view-in-github",
        "colab_type": "text"
      },
      "source": [
        "<a href=\"https://colab.research.google.com/github/gsfreitas/engenharia-medica/blob/main/atividade_pratica_7.ipynb\" target=\"_parent\"><img src=\"https://colab.research.google.com/assets/colab-badge.svg\" alt=\"Open In Colab\"/></a>"
      ]
    },
    {
      "cell_type": "markdown",
      "source": [
        "# Bibliotecas e funções"
      ],
      "metadata": {
        "id": "uilvFNrXW98Z"
      }
    },
    {
      "cell_type": "code",
      "source": [
        "# importando as bibliotecas\n",
        "import matplotlib.pyplot as plt\n",
        "import numpy as np\n",
        "import scipy.stats as st\n",
        "import itertools\n",
        "import scipy.io\n",
        "import scipy.fft as fft\n",
        "from scipy.signal import welch\n",
        "from sklearn import svm\n",
        "from scipy.stats import shapiro\n",
        "import seaborn as sns\n",
        "import operator"
      ],
      "metadata": {
        "id": "wyi52V5rXbT3"
      },
      "execution_count": null,
      "outputs": []
    },
    {
      "cell_type": "code",
      "source": [
        "def t6_perceptron(classe1, classe2, rho=0.05,maxsteps=10000):\n",
        "    #Perceptron para duas classes\n",
        "    #INPUTS:\n",
        "    # - classe 1: L x N1 da primeira classe (características x padrões)\n",
        "    # - classe 2: L x N2 da segunda classe (características x padrões)\n",
        "    # - rho: learning parameter\n",
        "    # - maxsteps = numero maximo de iteracoes\n",
        "    #OUTPUT:\n",
        "    # - ws: vetor com os pesos do classificador\n",
        "    # - hs: indica se perceptron convergiu (1) ou não convergiu (0)\n",
        "    # - t: número de iterações realizadas\n",
        "    L1,N1=np.shape(classe1)\n",
        "    L2,N2=np.shape(classe2)\n",
        "    if L1!=L2:\n",
        "        print('ERRO: Classes devem ter o mesmo número de características')\n",
        "        return\n",
        "    X=np.hstack((classe1, classe2))\n",
        "    C=np.hstack((-np.ones(N1,),np.ones(N2,)))\n",
        "    X=np.vstack((X,np.ones((1,N1+N2))))\n",
        "    w=np.random.randn(L1+1,)\n",
        "    ws=w;\n",
        "    def classifica(w,X,C):\n",
        "        res=np.sign(np.dot(w.T,X))\n",
        "        Y=X[:,res*C<=0]\n",
        "        CY=-C[res*C<=0]\n",
        "        return Y, CY\n",
        "    (Y,CY)=classifica(w,X,C)\n",
        "    hs=np.shape(Y)[1]\n",
        "    t=0\n",
        "    while ((hs>0) & (t<maxsteps)):\n",
        "        for i in range(L1+1):\n",
        "            w[i]=w[i]-np.sum(rho*Y[i,:]*CY)\n",
        "        [Y,CY]=classifica(w,X,C)\n",
        "        t=t+1;\n",
        "        ht=np.shape(Y)[1]\n",
        "        if ht<hs:\n",
        "            hs=ht\n",
        "            ws=w\n",
        "    if hs==0:\n",
        "        print('Perceptron convergiu')\n",
        "    else:\n",
        "        print('Limite de interacoes atingido')\n",
        "    return ws, hs, t"
      ],
      "metadata": {
        "id": "c2u32wRgYZcm"
      },
      "execution_count": null,
      "outputs": []
    },
    {
      "cell_type": "code",
      "source": [
        "def t6_plotaperceptron(classe1,classe2,w,titulo,angulo=(-140,40)):\n",
        "    #Faz o gráfico do Perceptron (para 2 ou 3 características)\n",
        "    # Inputs:\n",
        "    # - classe 1: L x N1 da primeira classe (características x padrões)\n",
        "    # - classe 2: L x N2 da segunda classe (características x padrões)\n",
        "    # - w = vetor de pesos do perceptron\n",
        "    # - titulo = string com o titulo do grafico\n",
        "    # - angulo = angulo de visualização (para o caso de 3 características)\n",
        "    L=np.size(w) #dimensão do Perceptron (estendida, ou seja = número de características + 1)\n",
        "    if L==3:\n",
        "        plt.figure()\n",
        "        plt.plot(classe1[0,:],classe1[1,:],'bo',fillstyle='none')\n",
        "        plt.plot(classe2[0,:],classe2[1,:],'ro',fillstyle='none')\n",
        "        x1=plt.xlim()[0]\n",
        "        x2=plt.xlim()[1]\n",
        "        x=np.linspace(x1,x2,1000)\n",
        "        y=-(w[0]*x+w[2])/w[1]\n",
        "        plt.plot(x,y,'--')\n",
        "        plt.title(titulo)\n",
        "        plt.xlabel('Dim 1')\n",
        "        plt.ylabel('Dim 2')\n",
        "        plt.show()\n",
        "    elif L==4:\n",
        "        plt.figure()\n",
        "        ax=plt.axes(projection='3d')\n",
        "        ax.plot(classe1[0,:],classe1[1,:],classe1[2,:],'bo',fillstyle='none')\n",
        "        ax.plot(classe2[0,:],classe2[1,:],classe2[2,:],'ro',fillstyle='none')\n",
        "        x=ax.get_xlim()\n",
        "        y=ax.get_ylim()\n",
        "        (xx,yy)=t8_makemeshgrid(np.asarray(x), np.asarray(y),0.01)\n",
        "        z = (-w[0]*xx -w[1]*yy -w[3])/w[2];\n",
        "        ax.plot_surface(xx,yy,z,edgecolor='none')\n",
        "        ax.view_init(angulo[0],angulo[1])\n",
        "        ax.set_xlabel('Dim 1')\n",
        "        ax.set_ylabel('Dim 2')\n",
        "        ax.set_zlabel('Dim 3')\n",
        "        plt.show()\n",
        "    else:\n",
        "        print('ERRO: apenas para 2 ou 3 dimensões')"
      ],
      "metadata": {
        "id": "1REYU4BOYaTn"
      },
      "execution_count": null,
      "outputs": []
    },
    {
      "cell_type": "code",
      "source": [
        "def t7_LS(classe1, classe2, c=0):\n",
        "    #Classificador LS para duas classes.\n",
        "    #INPUTS:\n",
        "    # - classe 1: L x N1 da primeira classe\n",
        "    # - classe 2: L x N2 da segunda classe\n",
        "    # - c: parametro de regularidade (controla a singularidade da matriz de\n",
        "    # correlacao)\n",
        "    #OUTPUT:\n",
        "    # - w: vetor com os pesos do classificador linear (ultimo elemento é o termo não\n",
        "    # homogeneo)\n",
        "    L1,N1=np.shape(classe1)\n",
        "    L2,N2=np.shape(classe2)\n",
        "    if L1!=L2:\n",
        "        print('ERRO: Classes devem ter o mesmo número de características')\n",
        "        return\n",
        "    X=np.hstack((classe1, classe2))\n",
        "    X=np.vstack((X,np.ones((1,N1+N2))))\n",
        "    y=np.hstack((-np.ones(N1,),np.ones(N2,)))\n",
        "    w=np.dot(np.linalg.inv(np.dot(X,X.T)+c*np.eye(L1+1)),np.dot(X,y));\n",
        "    return w"
      ],
      "metadata": {
        "id": "opSj-IAEW_tI"
      },
      "execution_count": null,
      "outputs": []
    },
    {
      "cell_type": "code",
      "source": [
        "def t7_FDA(classes,n):\n",
        "    # Encontra a transformação para o espaço da Analise Discriminante Linear de Fisher entre classes distintas\n",
        "    # INPUT:\n",
        "    # - classes: lista de classes. classes[i]= (L x Ni): L caracteristicas e Ni padroes na classe i\n",
        "    # - n = numero de caracterisiticas para selecionar\n",
        "    # OUTPUT:\n",
        "    # - A: matriz de projecao (as colunas sao os vetores de projecao para o novo espaço)\n",
        "    # - Lambda: autovalores\n",
        "    C=len(classes)\n",
        "    L=np.size(classes[0],axis=0)\n",
        "    for i in range(C):\n",
        "        if np.size(classes[i],axis=0)!=L:\n",
        "            print('ERRO: Confira a dimensao das variaveis de input')\n",
        "            return\n",
        "    SW,SM,SB=t3_matrizesdeespalhamento(classes,range(L))\n",
        "    (Lambda,Vec)=np.linalg.eig(np.dot(np.linalg.inv(SW),SB))\n",
        "    s=Lambda.argsort()\n",
        "    Lambda=Lambda[s[::-1]]#ordem decrescente\n",
        "    Vec=Vec[:,s[::-1]]#ordem decrescente\n",
        "    A=np.real(Vec[:,0:n])\n",
        "    Lambda=Lambda[0:n]\n",
        "    return A,Lambda"
      ],
      "metadata": {
        "id": "v5fHfTPgXehO"
      },
      "execution_count": null,
      "outputs": []
    },
    {
      "cell_type": "markdown",
      "source": [
        "# Perceptron"
      ],
      "metadata": {
        "id": "zmMicWFgXvBx"
      }
    },
    {
      "cell_type": "markdown",
      "source": [
        "**1) [Perceptron Pocket]**: No github do curso, você encontra uma função que implementa o classificador linear Perceptron para duas classes (“t6_perceptron” em “main.py”). A função recebe duas matrizes correspondendo a dados provenientes de duas classes distintas. As matrizes devem ter o mesmo número de características (L), mas podem ter números de padrões distintos. Além disso, a função recebe um número máximo de iterações e o parâmetro de aprendizagem do classificador (ρ). O algoritmo retorna o vetor em L+1 dimensões com os pesos do classificador linear."
      ],
      "metadata": {
        "id": "YkTSsyBJXyVu"
      }
    },
    {
      "cell_type": "markdown",
      "source": [
        "**a)** Leia com calma a função para garantir que você compreende o que está sendo feito."
      ],
      "metadata": {
        "id": "_bSFoUOpYi7L"
      }
    },
    {
      "cell_type": "markdown",
      "source": [
        "**b)** Agora vamos testá-la. No material de aula no Classroom você encontrará um arquivo chamado “dadosex1.mat” contendo cinco conjuntos de dados, “Classe1”, “Classe2a”, “Classe2b”, “Classe2c”, “Classe2d”. O primeiro conjunto corresponde aos dados da primeira classe e os demais conjuntos a 4 versões diferentes para os dados da segunda classe. Classe2a é o conjunto mais distante de Classe1. Classe2b e 2c são menos distantes, mas ainda linearmente separáveis da Classe 1. Por fim, Classe2d não é linearmente separável da Classe 1. Teste a velocidade do perceptron para a separação entre a classe 1 e a classe 2 para cada caso usando dois valores do parâmetro de aprendizagem ρ = 0 05 e ρ = 0.01. O que você pode concluir desses dados? Você consegue reproduzir figuras semelhantes com as figuras que estão a seguir? É claro que o plano do seu Perceptron poderá variar em relação às figuras abaixo. E note que há uma função pronta no material do curso para gerar os gráficos de um classificador linear qualquer em duas ou três dimensões (método “t6_plotaperceptron”). Use esta função para gerar os gráficos neste e nos demais problemas desta aula, se você assim preferir."
      ],
      "metadata": {
        "id": "vmgRBYyMYnHo"
      }
    },
    {
      "cell_type": "code",
      "source": [
        "# leitura dos dados\n",
        "class_1 = scipy.io.loadmat(\"/content/drive/MyDrive/ict-unifesp/2023.2/engenharia-medica/atividade-pratica-7/dadosex1.mat\")['Classe1']\n",
        "class_2a = scipy.io.loadmat(\"/content/drive/MyDrive/ict-unifesp/2023.2/engenharia-medica/atividade-pratica-7/dadosex1.mat\")['Classe2a']\n",
        "class_2b = scipy.io.loadmat(\"/content/drive/MyDrive/ict-unifesp/2023.2/engenharia-medica/atividade-pratica-7/dadosex1.mat\")['Classe2b']\n",
        "class_2c = scipy.io.loadmat(\"/content/drive/MyDrive/ict-unifesp/2023.2/engenharia-medica/atividade-pratica-7/dadosex1.mat\")['Classe2c']\n",
        "class_2d = scipy.io.loadmat(\"/content/drive/MyDrive/ict-unifesp/2023.2/engenharia-medica/atividade-pratica-7/dadosex1.mat\")['Classe2d']"
      ],
      "metadata": {
        "id": "3NuwHjX3XxAh"
      },
      "execution_count": null,
      "outputs": []
    },
    {
      "cell_type": "code",
      "source": [
        "# aplicacao do perceptron entre a classe 1 e variantes da classe 2\n",
        "# testando com rho 0.05 e 0.01\n",
        "\n",
        "ws_12a, hs_12a, t_12a = t6_perceptron(class_1, class_2a, rho=0.05,maxsteps=10000)\n",
        "\n",
        "plt.figure(figsize=(12,5))\n",
        "t6_plotaperceptron(class_1, class_2a, ws_12a, f\"Perceptron: rho = 0.05 | interações = {t_12a}\", angulo=(-140,40))"
      ],
      "metadata": {
        "colab": {
          "base_uri": "https://localhost:8080/",
          "height": 507
        },
        "id": "WR5j36ExaRNu",
        "outputId": "d35733a2-c69a-41f2-dc35-7285cdcc33c2"
      },
      "execution_count": null,
      "outputs": [
        {
          "output_type": "stream",
          "name": "stdout",
          "text": [
            "Perceptron convergiu\n"
          ]
        },
        {
          "output_type": "display_data",
          "data": {
            "text/plain": [
              "<Figure size 1200x500 with 0 Axes>"
            ]
          },
          "metadata": {}
        },
        {
          "output_type": "display_data",
          "data": {
            "text/plain": [
              "<Figure size 640x480 with 1 Axes>"
            ],
            "image/png": "[encoded data removed]"
          },
          "metadata": {}
        }
      ]
    },
    {
      "cell_type": "code",
      "source": [],
      "metadata": {
        "id": "ygMcdPSKccMS"
      },
      "execution_count": null,
      "outputs": []
    }
  ]
}