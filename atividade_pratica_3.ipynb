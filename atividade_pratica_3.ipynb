{
  "nbformat": 4,
  "nbformat_minor": 0,
  "metadata": {
    "colab": {
      "provenance": [],
      "mount_file_id": "1v7Lop9WHikie7FkjN8gkn4MZi3CEtmx_",
      "authorship_tag": "ABX9TyMOlUTOsyiVXic7sbZASv7H",
      "include_colab_link": true
    },
    "kernelspec": {
      "name": "python3",
      "display_name": "Python 3"
    },
    "language_info": {
      "name": "python"
    }
  },
  "cells": [
    {
      "cell_type": "markdown",
      "metadata": {
        "id": "view-in-github",
        "colab_type": "text"
      },
      "source": [
        "<a href=\"https://colab.research.google.com/github/gsfreitas/engenharia-medica/blob/main/atividade_pratica_3.ipynb\" target=\"_parent\"><img src=\"https://colab.research.google.com/assets/colab-badge.svg\" alt=\"Open In Colab\"/></a>"
      ]
    },
    {
      "cell_type": "markdown",
      "source": [
        "# Pré-processamento de características"
      ],
      "metadata": {
        "id": "LIiOhlnu7J6-"
      }
    },
    {
      "cell_type": "markdown",
      "source": [
        "Na aula de hoje, vimos os procedimentos de remoção de outliers e de normalização do espaço de características. Nesta atividade, vamos garantir que compreendemos o que está envolvido nestes processos. Para isso, vamos utilizar as funções *t3_remoutliers*, *t3_normaliza* e *t3_preselec* que estão disponíveis no github do curso."
      ],
      "metadata": {
        "id": "EtgmtHPl7S98"
      }
    },
    {
      "cell_type": "code",
      "source": [
        "# importando as bibliotecas\n",
        "import matplotlib.pyplot as plt\n",
        "import numpy as np\n",
        "import scipy.stats as st\n",
        "import itertools\n",
        "import scipy.io\n",
        "import scipy.fft as fft\n",
        "from scipy.signal import welch\n",
        "from sklearn import svm\n",
        "from scipy.stats import shapiro\n",
        "import seaborn as sns\n",
        "import operator"
      ],
      "metadata": {
        "id": "PqTTQcV7U-py"
      },
      "execution_count": 19,
      "outputs": []
    },
    {
      "cell_type": "code",
      "source": [
        "# leitura e tratamento dos dados\n",
        "data_1 = scipy.io.loadmat(\"/content/drive/MyDrive/ict-unifesp/2023.2/engenharia-medica/atividade-pratica-3/Dados1.mat\")['sinal']\n",
        "data_2 = scipy.io.loadmat(\"/content/drive/MyDrive/ict-unifesp/2023.2/engenharia-medica/atividade-pratica-3/Dados2.mat\")"
      ],
      "metadata": {
        "id": "3qKTPOz8VAU2"
      },
      "execution_count": 20,
      "outputs": []
    },
    {
      "cell_type": "markdown",
      "source": [
        "**A)** Leia as funções mencionadas e garanta que você compreende o que elas\n",
        "fazem *(observe os slides da aula, pesquise a respeito dos métodos\n",
        "empregados ou tire dúvidas com o professor ou a tutora, mas não empregue\n",
        "estas funções sem compreendê-las)*."
      ],
      "metadata": {
        "id": "C5U3fjVwUe6E"
      }
    },
    {
      "cell_type": "code",
      "source": [
        "def t3_remoutliers(padroes,p,method='desvio'):\n",
        "   #Encontra outlires baseando-se em dois métodos possiveis:\n",
        "    #  method = 'desvio': mediana +-p x desvio\n",
        "    #  method = 'quartis': quartis  +-p x intervalo entre quartis\n",
        "    # padroes = numpy array de uma característica (N x 1)\n",
        "    # p = numero de desvios ou de intervalos entre quartis a ser empregado\n",
        "    # retorna lista com as posicoes dos outliers no array\n",
        "    if method =='desvio':\n",
        "        md=np.median(padroes)\n",
        "        std=np.std(padroes,ddof=1)\n",
        "        th1=md+p*std\n",
        "        th2=md-p*std\n",
        "    elif method=='quartis':\n",
        "        q3, q1 = np.percentile(padroes, [75 ,25])\n",
        "        iqr=q3-q1\n",
        "        th1=q3+p*iqr\n",
        "        th2=q1-p*iqr\n",
        "    outliers=(padroes>th1) | (padroes<th2)\n",
        "    outs=[i for i, val in enumerate(outliers) if val]\n",
        "    return outs"
      ],
      "metadata": {
        "id": "E9lEhB8qWMk_"
      },
      "execution_count": 21,
      "outputs": []
    },
    {
      "cell_type": "code",
      "source": [
        "def t3_normaliza(dados,metodo='linear',r=1):\n",
        "    #Realiza a normalizacao de um conjunto de padroes\n",
        "    # dados = numpy array com padroes de uma caracteristica N x 1\n",
        "    # metodo ='linear' : normalizacao linear (padrao)\n",
        "    #        = 'mmx': limitada entre -1 e 1\n",
        "    #        = 'sfm': rescala nao linear no intervalo 0 a 1\n",
        "    # r = parametro do metodo sfm (padrao =1)\n",
        "    #A função retorna os dados normalizados\n",
        "    if metodo=='linear':\n",
        "        M=np.mean(dados)\n",
        "        S=np.std(dados,ddof=1)\n",
        "        dadosnorm=(dados-M)/S\n",
        "    elif metodo=='mmx':\n",
        "        dadosnorm=2*dados/(np.max(dados)-np.min(dados))\n",
        "        dadosnorm=dadosnorm - (np.min(dadosnorm)+1)\n",
        "    elif metodo=='sfm':\n",
        "        x=dados-np.mean(dados)\n",
        "        x=-x/(r*np.std(dados))\n",
        "        dadosnorm=1/(1+np.exp(x))\n",
        "    return dadosnorm"
      ],
      "metadata": {
        "id": "JnK_w5Q97Mo0"
      },
      "execution_count": 22,
      "outputs": []
    },
    {
      "cell_type": "code",
      "source": [
        "def t3_preselec(dados1,dados2,alfa,verbose=True):\n",
        "    #A função retorna os indices das características que apresentaram\n",
        "    #significatividade (\"rel\") e os p-values das características na\n",
        "    #distinção entre classes (\"p\")\n",
        "    #Inputs:\n",
        "    # - dados1 = array características x padrões da primeira classe\n",
        "    # - dados2 = array características x padrões da segunda classe\n",
        "    # - alfa = taxa de erro tipo I do teste (por exemplo, alfa=0.05)\n",
        "    Ncarac,Npad=dados1.shape\n",
        "    Ncarac2,Npad2=dados2.shape\n",
        "    if Ncarac2!= Ncarac:\n",
        "        print('Erro: matrizes devem ter o mesmo numero de caracteristicas!')\n",
        "        return\n",
        "    p=np.zeros(Ncarac)\n",
        "    for i in range(Ncarac):\n",
        "        s1=st.shapiro(dados1[i,:])\n",
        "        s2=st.shapiro(dados2[i,:])\n",
        "        if (s1[1]<0.05) | (s2[1]<0.05):\n",
        "            res=st.ranksums(dados1[i,:],dados2[i,:])\n",
        "            p[i]=res.pvalue\n",
        "            if verbose:\n",
        "                print('Aviso: normalidade rejeitada para a caracteristica nº '+ str(i+1))\n",
        "        else:\n",
        "            res=st.ttest_ind(dados1[i,:],dados2[i,:])\n",
        "            p[i]=res.pvalue\n",
        "    relevantes=(p<alfa)\n",
        "    rel=[i for i,val in enumerate(relevantes) if val]\n",
        "    return rel,p"
      ],
      "metadata": {
        "id": "OPxMdYtfUngj"
      },
      "execution_count": 23,
      "outputs": []
    },
    {
      "cell_type": "markdown",
      "source": [
        "**B)** Teste a remoção de outliers usando diferentes parâmetros nos dados do\n",
        "arquivo “Dados1.mat” disponível no material do Classroom desta aula"
      ],
      "metadata": {
        "id": "POfsTNlTV2QA"
      }
    },
    {
      "cell_type": "markdown",
      "source": [
        "Quando removemos outliers, devemos remover de cada classe individualmente."
      ],
      "metadata": {
        "id": "Z6d_E3bzwoOq"
      }
    },
    {
      "cell_type": "code",
      "source": [
        "# aplicando a função de remoção de outliers no primeiro conjunto\n",
        "outliers = [t3_remoutliers(data_1,3,method='quartis'),t3_remoutliers(data_1,3,method='desvio')]\n",
        "\n",
        "# plot dos dados e outliers\n",
        "plt.figure(figsize=(15,5))\n",
        "plt.subplot(1,2,1)\n",
        "\n",
        "# intervalo entre quartis\n",
        "plt.scatter(np.arange(len(data_1)), data_1, marker=\"+\")\n",
        "plt.scatter(outliers[0], data_1[outliers[0]], facecolors='none', edgecolors='red')\n",
        "plt.title(\"Detecção de outliers: intervalo entre quartis (acima de 3 vezes)\")\n",
        "plt.xlabel(\"Amostras\")\n",
        "\n",
        "plt.subplot(1,2,2)\n",
        "# critério da mediana\n",
        "plt.scatter(np.arange(len(data_1)), data_1, marker=\"+\")\n",
        "plt.scatter(outliers[1], data_1[outliers[1]], facecolors='none', edgecolors='red')\n",
        "plt.title(\"Detecção de outliers: mediana +/- 3 desvios\")\n",
        "plt.xlabel(\"Amostras\")\n",
        "\n",
        "plt.show()"
      ],
      "metadata": {
        "colab": {
          "base_uri": "https://localhost:8080/",
          "height": 496
        },
        "id": "Nt721RcwUq7p",
        "outputId": "f3403087-4774-4774-eed9-7b4a55b3ec9e"
      },
      "execution_count": 24,
      "outputs": [
        {
          "output_type": "display_data",
          "data": {
            "text/plain": [
              "<Figure size 1500x500 with 2 Axes>"
            ],
            "image/png": "[encoded data removed]"
          },
          "metadata": {}
        }
      ]
    },
    {
      "cell_type": "markdown",
      "source": [
        "**C)** Teste a normalização nos dados do arquivo “Dados2.mat” disponível no material do Classroom desta aula. Este arquivo possui medidas histopatológicas de duas classes distintas de astrocitomas *(alto grau e baixo grau)*. As características no arquivo correspondem às médias *(variável “med”)* e às obliquidades *(variável “ske”)* dos tons de cinza das imagens. Cada uma dessas variáveis contém 5 padrões para cada classe *(as matrizes possuem a dimensão N x C, onde N=5 é o número de padrões e C=2 é o número de classes)*. Teste diferentes métodos de normalização em tais dados e plote as diferentes classes no espaço das características."
      ],
      "metadata": {
        "id": "DpGO1E1dXJck"
      }
    },
    {
      "cell_type": "markdown",
      "source": [
        "Quando normalizamos, devemos fazer isso para as classes juntas em um so vetor, uma vez que se fizermos isso para cada uma, podemos encontrar sobreposição nos espaço de características."
      ],
      "metadata": {
        "id": "TAkbgF2Mw1Pz"
      }
    },
    {
      "cell_type": "code",
      "source": [
        "# dados originais\n",
        "plt.figure(figsize=(15,5))\n",
        "sns.set_theme()\n",
        "\n",
        "plt.subplot(1,2,1)\n",
        "sns.scatterplot(x=data_2['med'][:,0], y=data_2['ske'][:,0],markers='O', color='blue')\n",
        "sns.scatterplot(x=data_2['med'][:,1], y=data_2['ske'][:,1],markers='O', color='red')\n",
        "plt.xlabel(\"Média\")\n",
        "plt.ylabel(\"Obliquidade\")\n",
        "\n",
        "# dados normalizados - todas as classes devem estar no mesmo vetor\n",
        "mean_list = np.concatenate((data_2['med'][:,0], data_2['med'][:,1]))\n",
        "ske_list = np.concatenate((data_2['ske'][:,0], data_2['ske'][:,1]))\n",
        "\n",
        "mean_norm = t3_normaliza(mean_list, metodo='linear', r=1)\n",
        "ske_norm = t3_normaliza(ske_list, metodo='linear', r=1)\n",
        "\n",
        "# plot dos dados normalizados\n",
        "plt.subplot(1,2,2)\n",
        "sns.scatterplot(x=mean_norm[0:5], y=ske_norm[0:5], markers='O', color='blue')\n",
        "sns.scatterplot(x=mean_norm[5:10], y=ske_norm[5:10], markers='O', color='red')\n",
        "plt.xlabel(\"Média normalizada\")\n",
        "plt.ylabel(\"Obliquidade normalizada\")\n",
        "\n",
        "plt.show()"
      ],
      "metadata": {
        "colab": {
          "base_uri": "https://localhost:8080/",
          "height": 473
        },
        "id": "TJGrmckjej1_",
        "outputId": "64bb11c8-6fb5-4f1b-a032-b3064e0d375b"
      },
      "execution_count": 25,
      "outputs": [
        {
          "output_type": "display_data",
          "data": {
            "text/plain": [
              "<Figure size 1500x500 with 2 Axes>"
            ],
            "image/png": "[encoded data removed]"
          },
          "metadata": {}
        }
      ]
    },
    {
      "cell_type": "markdown",
      "source": [
        "**D)** Teste o processo de pré-seleção baseado em teste estatístico, para determinar características irrelevantes na distinção das duas classes de astrocitomas descritas no item anterior. Observe os dados e verifique se o resultado é aquele esperado 1. *(Resposta: a característica “Obliquidade” é\n",
        "estatisticamente irrelevante na distinção das classes; o mesmo não pode ser\n",
        "afirmado para a característica “Media”)*."
      ],
      "metadata": {
        "id": "UQw26DsS3u9-"
      }
    },
    {
      "cell_type": "code",
      "source": [
        "# separando as duas classes\n",
        "class_1 = np.asarray([mean_norm[0:5], ske_norm[0:5]])\n",
        "class_2 = np.asarray([mean_norm[5:10], ske_norm[5:10]])\n",
        "\n",
        "# realizando o teste estatístico das duas classes\n",
        "print(f'Classe 1: {shapiro(class_1)}')\n",
        "print(f'Classe 2: {shapiro(class_2)}')"
      ],
      "metadata": {
        "id": "3Jb6v_qbUvBh",
        "colab": {
          "base_uri": "https://localhost:8080/"
        },
        "outputId": "be3aaa93-4f1d-4b57-f46b-2240f36d887a"
      },
      "execution_count": 26,
      "outputs": [
        {
          "output_type": "stream",
          "name": "stdout",
          "text": [
            "Classe 1: ShapiroResult(statistic=0.9209907054901123, pvalue=0.36529168486595154)\n",
            "Classe 2: ShapiroResult(statistic=0.9668848514556885, pvalue=0.8605561256408691)\n"
          ]
        }
      ]
    },
    {
      "cell_type": "markdown",
      "source": [
        "Através da análise do valor estatístico e do p-valor, então não devemos rejeitar a hipótese de normalidade."
      ],
      "metadata": {
        "id": "qmq4PF7D9As9"
      }
    },
    {
      "cell_type": "code",
      "source": [
        "# fazendo a pre-selecao de caracteristicas\n",
        "pre_select = t3_preselec(class_1, class_2, 0.05, verbose=True)"
      ],
      "metadata": {
        "colab": {
          "base_uri": "https://localhost:8080/"
        },
        "id": "9jWcZ_HC-MU1",
        "outputId": "1eb2bd0e-2e42-49c6-9fc7-583abfce7af3"
      },
      "execution_count": 27,
      "outputs": [
        {
          "output_type": "stream",
          "name": "stdout",
          "text": [
            "Aviso: normalidade rejeitada para a caracteristica nº 2\n"
          ]
        }
      ]
    },
    {
      "cell_type": "markdown",
      "source": [
        "A normalidade da característica número 2 (obliquidade) foi rejeitada. Isso significa que não importa para qual classe seja. A obliquidade deve ser considerada em outro teste estatístico."
      ],
      "metadata": {
        "id": "Yt4joUXEmynL"
      }
    },
    {
      "cell_type": "markdown",
      "source": [
        "# Curva ROC"
      ],
      "metadata": {
        "id": "cP_34Je1Bzif"
      }
    },
    {
      "cell_type": "markdown",
      "source": [
        "Neste exercício, vamos calcular a área embaixo da curva ROC para as características obtidas nas duas classes de astrocitomas descritas no exercício acima. Você pode escrever o seu próprio algoritmo para encontrar a ROC ou utilizar funções existentes, como o método “t3_fazroc” que está disponível no github do curso, mas em qualquer um dos casos, garanta que você compreendeu o que está sendo calculado."
      ],
      "metadata": {
        "id": "b3JSBMwrCBVn"
      }
    },
    {
      "cell_type": "code",
      "source": [
        "def t3_fazroc(dados1,dados2,nomecarac='',plotar=True):\n",
        "    #função que calcula a ROC para ser aplicada em dois conjuntos de padroes (uma caracteristica)\n",
        "    #Inputs:\n",
        "    # - dados1 = numpy array com padroes de uma caracteristica para a primeira classe N1 x 1\n",
        "    # - dados2 = numpy array com padroes de uma caracteristica para a segunda classe N2 x 1\n",
        "    # - nomecarac = nome da característica para o gráfico\n",
        "    # - plotar = faz o gráfico da ROC (True or False)\n",
        "    #Outputs:\n",
        "    # - auc = área embaixo da curva ROC\n",
        "    # - fpr = taxas de falsos positivos em função do limiar\n",
        "    # - tpr = taxas de verdadeiros positivos em função do limiar\n",
        "    # - acuracia = acuracias totais em função do limiar\n",
        "    # - thresholds = limiares da roc\n",
        "    # - classes = classes dos dois inputs (1 ou -1)\n",
        "    Np1=dados1.shape[0]\n",
        "    Np2=dados2.shape[0]\n",
        "    classes=np.zeros(Np1+Np2)\n",
        "    classes[0:Np1]=-1\n",
        "    classes[Np1:Np1+Np2]=1\n",
        "    dados=np.concatenate((dados1,dados2),axis=0)\n",
        "    s=dados.argsort()\n",
        "    thresholds=dados[s]\n",
        "    classessort=classes[s]\n",
        "    tpr=np.zeros(len(classes)+1)\n",
        "    fpr=np.zeros(len(classes)+1)\n",
        "    acuracia=np.zeros(len(classes)+1)\n",
        "    erro=np.zeros(len(classes)+1)\n",
        "    for i in range(len(classessort)):\n",
        "        pos=classessort[i:]\n",
        "        tpr[i]=sum(pos==1)/sum(classes==1)\n",
        "        fpr[i]=sum(pos==-1)/sum(classes==-1)\n",
        "        acuracia[i]=(sum(pos==1) + (sum(classes==-1)-sum(pos==-1)))/(sum(classes==1)+sum(classes==-1))\n",
        "        erro[i]=(sum(pos==-1) + (sum(classes==1)-sum(pos==1)))/(sum(classes==1)+sum(classes==-1))\n",
        "    auc=-np.trapz(tpr,x=fpr)\n",
        "    classes=[-1,1] #classes dos dois input\n",
        "    if auc<0.5:\n",
        "        auc=1-auc\n",
        "        fpr2=fpr\n",
        "        fpr=tpr\n",
        "        tpr=fpr2\n",
        "        acuracia2=acuracia\n",
        "        acuracia=erro\n",
        "        erro=acuracia2\n",
        "        classes=[1,-1] #classes dos dois inputs\n",
        "    if plotar:\n",
        "            plt.figure()\n",
        "            plt.plot(fpr,tpr)\n",
        "            plt.title(nomecarac+' AUC = '+'{:.2}'.format(auc))\n",
        "            plt.xlabel('False Positive Rate')\n",
        "            plt.ylabel('True Positive Rate')\n",
        "            plt.show(block=False)\n",
        "    return auc, fpr, tpr, classes, thresholds, acuracia"
      ],
      "metadata": {
        "id": "bnkMCsO2B2WL"
      },
      "execution_count": 28,
      "outputs": []
    },
    {
      "cell_type": "code",
      "source": [
        "# normalizando as características de cada classe\n",
        "mean_norm_1 = np.asarray(data_2['med'][:,0])\n",
        "mean_norm_2 = np.asarray(data_2['med'][:,1])\n",
        "ske_norm_1 = np.asarray(data_2['ske'][:,0])\n",
        "ske_norm_2 = np.asarray(data_2['ske'][:,1])"
      ],
      "metadata": {
        "id": "5PzNTtrCCLJl"
      },
      "execution_count": 29,
      "outputs": []
    },
    {
      "cell_type": "code",
      "source": [
        "# processo para plotar a curva ROC\n",
        "plt.figure(figsize=(12,5))\n",
        "plt.subplot(1,2,1)\n",
        "auc_1, fpr_1, tpr_1, classes_1, thresholds_1, acuracia_1 = t3_fazroc(mean_norm_1, mean_norm_2, nomecarac='med', plotar=False)\n",
        "plt.plot(fpr_1, tpr_1)\n",
        "plt.plot(fpr_1, fpr_1, color='black')\n",
        "plt.title('AUC = '+'{:.2}'.format(auc_1))\n",
        "plt.xlabel('False Positive Rate')\n",
        "plt.ylabel('True Positive Rate')\n",
        "\n",
        "plt.subplot(1,2,2)\n",
        "auc_2, fpr_2, tpr_2, classes_2, thresholds_2, acuracia_2 = t3_fazroc(ske_norm_1, ske_norm_2, nomecarac='', plotar=False)\n",
        "plt.plot(fpr_2, tpr_2)\n",
        "plt.plot(fpr_2, fpr_2, color='black')\n",
        "plt.title('AUC = '+'{:.2}'.format(auc_2))\n",
        "plt.xlabel('False Positive Rate')\n",
        "plt.ylabel('True Positive Rate')\n",
        "\n",
        "plt.show()"
      ],
      "metadata": {
        "colab": {
          "base_uri": "https://localhost:8080/",
          "height": 496
        },
        "id": "57hj4i6_CW_b",
        "outputId": "ae7295c8-f254-4a9d-d1a1-c00ec0b75600"
      },
      "execution_count": 30,
      "outputs": [
        {
          "output_type": "display_data",
          "data": {
            "text/plain": [
              "<Figure size 1200x500 with 2 Axes>"
            ],
            "image/png": "[encoded data removed]"
          },
          "metadata": {}
        }
      ]
    },
    {
      "cell_type": "markdown",
      "source": [
        "# Pré-processamento, teste estatístico e ROC"
      ],
      "metadata": {
        "id": "Rr7RPmYirSHz"
      }
    },
    {
      "cell_type": "markdown",
      "source": [
        "Agora vamos aplicar estes métodos para um exemplo real. Neste exercício iremos: a) detectar outliers, b) normalizar os dados, c) realizar testes estatísticos e d) calcular a AUC para as características extraídas dos registros de EEG que foram introduzidos no exercício da atividade prática 2 (aula 05). O objetivo deste exercício é verificar como um critério de seleção como a ROC pode ser empregado para auxiliar-nos na identificação de características relevantes na distinção das classes. Inspecione os seus resultados e procure pelas melhores características para diferentes comparações. Abaixo você encontrará alguns resultados para a comparação “vigília” x “estágio 4 do sono” e “vigília” x “sono rem”."
      ],
      "metadata": {
        "id": "3vobFgJjreAL"
      }
    },
    {
      "cell_type": "code",
      "source": [
        "# leitura e tratamento dos dados\n",
        "signal = scipy.io.loadmat(\"/content/drive/MyDrive/ict-unifesp/2023.2/engenharia-medica/atividade-pratica-2/Dados.mat\")['SINAL']\n",
        "stages = scipy.io.loadmat(\"/content/drive/MyDrive/ict-unifesp/2023.2/engenharia-medica/atividade-pratica-2/Dados.mat\")['ESTAGIOS']\n",
        "\n",
        "# definindo a frequencia\n",
        "freq = 100"
      ],
      "metadata": {
        "id": "5N4bKCnXrYay"
      },
      "execution_count": 31,
      "outputs": []
    },
    {
      "cell_type": "code",
      "source": [
        "# definindo a funcao de extracao de caracteristicas\n",
        "def t2_extraicarac(sin,freq,bandas,method='fft',nwelch=5):\n",
        "  \"\"\"\n",
        "  Extrai características estatísticas e espectrais de um conjunto de sinais de mesma dimensão temporal.\n",
        "  Inputs:\n",
        "    - sin = numpy array (num de sinais x tempo)\n",
        "    - freq = frequencia de amostragem dos sinais (Hz)\n",
        "    - bandas = dicionario com a informação das bandas de frequencia a serem extraídas.\n",
        "               Formato:{'nome da banda (string)':[freqinicial, freqfinal]}\n",
        "               Exemplo:\n",
        "               bandas={'delta 1':[0.5,2.5],'delta 2':[2.5,4],'teta 1':[4,6],'teta 2':[6,8], 'alfa':[8,12],'beta':[12,20],'gama':[20,45]}\n",
        "    - method = 'fft' or 'welch' (se welch, \"nwelch\" é o numero de trechos no qual o sinal é dividido)\n",
        "  Output:\n",
        "    - retorna um array de trechos x características e uma lista com os nomes das\n",
        "  caracteristicas correspondentes ao array\n",
        "  \"\"\"\n",
        "\n",
        "  (S,X)=np.shape(sin) #S = numero de sinais sinais; X = tamanho dos sinais no tempo\n",
        "  nc=8+len(bandas) #numero de caracteristicas que serao extraidas\n",
        "  car=np.zeros((S,nc)) #matriz das caracteristicas\n",
        "  nomesc=[None]*nc\n",
        "  for s in range(S):\n",
        "    #média\n",
        "     car[s,0]=np.mean(sin[s,:])\n",
        "     nomesc[0]='media'\n",
        "\n",
        "    #variancia\n",
        "     var0=np.var(sin[s,:],ddof=1)\n",
        "     car[s,1]=var0\n",
        "     nomesc[1]='variancia'\n",
        "\n",
        "    #mobilidade\n",
        "     x1=np.diff(sin[s,:])\n",
        "     var1=np.var(x1,ddof=1)\n",
        "     mob=var1/var0\n",
        "     car[s,2]=mob\n",
        "     nomesc[2]='mobilidade'\n",
        "\n",
        "    #complexidade estatística\n",
        "     x2=np.diff(x1)\n",
        "     var2=np.var(x2,ddof=1)\n",
        "     ce=(var2/var1-var1/var0)**(1/2)\n",
        "     car[s,3]=ce\n",
        "     nomesc[3]='complexidade'\n",
        "\n",
        "    ##calculando o espectro:\n",
        "     if method=='fft':\n",
        "       yf = np.abs(fft.rfft(sin[s,:]-car[s,0]))**2\n",
        "       yf=yf/X\n",
        "       yf=yf[0:int(np.floor(X/2)+1)]\n",
        "       xf = np.linspace(0.0, 1.0/(2.0/freq), len(yf))\n",
        "     elif method=='welch':\n",
        "       xf,yf = welch(sin[s,:]-car[s,0],freq,nperseg=X//nwelch)\n",
        "     Yf=yf/np.sum(yf)\n",
        "\n",
        "    #frequência central do espectro\n",
        "     car[s,4]=np.sum(xf*Yf)\n",
        "     nomesc[4]='f-central'\n",
        "\n",
        "    #potencia na frequencia central\n",
        "     ifc=np.abs(xf-car[s,4])==np.min(np.abs(xf-car[s,4]))\n",
        "     car[s,5]=yf[ifc]\n",
        "     nomesc[5]='P na fc'\n",
        "\n",
        "    #largura de banda do espectro\n",
        "     car[s,6]=np.sqrt(np.sum(((xf-car[s,4])**2)*Yf))\n",
        "     nomesc[6]='l-banda'\n",
        "\n",
        "    #frequência de margem do espectro\n",
        "     sw=np.cumsum(Yf)\n",
        "     f=np.max(np.where(sw<=0.9)[0])\n",
        "     car[s,7]=xf[f]\n",
        "     nomesc[7]='f-margem'\n",
        "\n",
        "    #potências espectrais normalizadas nas seguintes bandas:\n",
        "    #delta 1 (0.5 a 2.5Hz)\n",
        "     for ib, b in enumerate(bandas):\n",
        "        car[s,8+ib]=sum(Yf[((xf>=bandas[b][0]) & (xf<=bandas[b][1]))])\n",
        "        nomesc[8+ib]='%'+b\n",
        "\n",
        "  return (car,nomesc)"
      ],
      "metadata": {
        "id": "POcdqg4jqX8q"
      },
      "execution_count": 32,
      "outputs": []
    },
    {
      "cell_type": "code",
      "source": [
        "# selecionando as bandas de frequência\n",
        "bandas = {\n",
        "    \"delta 1\": [0.5,2.5],\n",
        "    \"delta 2\": [2.5,4],\n",
        "    \"theta 1\": [4,6],\n",
        "    \"theta 2\": [6, 8],\n",
        "    \"alpha\": [8, 12],\n",
        "    \"beta\": [12, 20],\n",
        "    \"gama\": [20, 45]\n",
        "}"
      ],
      "metadata": {
        "id": "ywHoxf7iqaxi"
      },
      "execution_count": 33,
      "outputs": []
    },
    {
      "cell_type": "code",
      "source": [
        "# utilizando a funcao de extracao de caracteristicas\n",
        "features, names = t2_extraicarac(signal,freq,bandas,method='fft',nwelch=5)"
      ],
      "metadata": {
        "id": "1cWH-diWqcyk"
      },
      "execution_count": 34,
      "outputs": []
    },
    {
      "cell_type": "code",
      "source": [
        "# separando as variáveis\n",
        "vigilia = features[np.where(stages[:,0]==0)[0]]\n",
        "stage_1 = features[np.where(stages[:,0]==1)[0]]\n",
        "stage_2 = features[np.where(stages[:,0]==2)[0]]\n",
        "stage_3 = features[np.where(stages[:,0]==3)[0]]\n",
        "stage_4 = features[np.where(stages[:,0]==4)[0]]\n",
        "rem = features[np.where(stages[:,0]==5)[0]]"
      ],
      "metadata": {
        "id": "jeUlo89BtrlS"
      },
      "execution_count": 35,
      "outputs": []
    },
    {
      "cell_type": "code",
      "source": [
        "# criando array com o nome dos trechos\n",
        "trechos = ['vigilia', 'nrem1', 'nrem2', 'nrem3', 'nrem4', 'rem']\n",
        "\n",
        "# criando listas para armazenar os outliers de cada trecho\n",
        "out_vigilia = []\n",
        "out_stage1 = []\n",
        "out_stage2 = []\n",
        "out_stage3 = []\n",
        "out_stage4 = []\n",
        "out_rem = []\n",
        "\n",
        "# iterando sobre cada lista para receber os outliers\n",
        "for index in range(0,15):\n",
        "  out_vigilia.append(t3_remoutliers(vigilia[:,index], 3, 'desvio'))\n",
        "  out_stage1.append(t3_remoutliers(stage_1[:,index], 3, 'desvio'))\n",
        "  out_stage2.append(t3_remoutliers(stage_2[:,index], 3, 'desvio'))\n",
        "  out_stage3.append(t3_remoutliers(stage_3[:,index], 3, 'desvio'))\n",
        "  out_stage4.append(t3_remoutliers(stage_4[:,index], 3, 'desvio'))\n",
        "  out_rem.append(t3_remoutliers(rem[:,index], 3, 'desvio'))\n",
        "\n",
        "# contando os valores únicos de outliers de cada trecho\n",
        "outliers = [list(set(valor for sublista in out_vigilia for valor in sublista)),\n",
        "            list(set(valor for sublista in out_stage1 for valor in sublista)),\n",
        "            list(set(valor for sublista in out_stage2 for valor in sublista)),\n",
        "            list(set(valor for sublista in out_stage3 for valor in sublista)),\n",
        "            list(set(valor for sublista in out_stage4 for valor in sublista)),\n",
        "            list(set(valor for sublista in out_rem for valor in sublista))]\n",
        "\n",
        "# print com a quantidade de outliers de cada trecho\n",
        "for index in range(len(outliers)):\n",
        "  print(f\"Quantidade de outliers {trechos[index]}: {len(outliers[index])}\")\n"
      ],
      "metadata": {
        "colab": {
          "base_uri": "https://localhost:8080/"
        },
        "id": "5P5XgNA558kF",
        "outputId": "9cc9ae3c-830b-4654-c0dc-5f3e520bd736"
      },
      "execution_count": 91,
      "outputs": [
        {
          "output_type": "stream",
          "name": "stdout",
          "text": [
            "Quantidade de outliers vigilia: 64\n",
            "Quantidade de outliers nrem1: 7\n",
            "Quantidade de outliers nrem2: 51\n",
            "Quantidade de outliers nrem3: 5\n",
            "Quantidade de outliers nrem4: 11\n",
            "Quantidade de outliers rem: 12\n"
          ]
        }
      ]
    },
    {
      "cell_type": "code",
      "source": [
        "# removendo os outliers\n",
        "for index in range(15):\n",
        "    no_out_vigilia = np.delete(vigilia, out_vigilia[index], axis=0)\n",
        "    no_out_stage_1 = np.delete(stage_1, out_stage1[index], axis=0)\n",
        "    no_out_stage_2 = np.delete(stage_2, out_stage2[index], axis=0)\n",
        "    no_out_stage_3 = np.delete(stage_3, out_stage3[index], axis=0)\n",
        "    no_out_stage_4 = np.delete(stage_4, out_stage4[index], axis=0)\n",
        "    no_out_rem = np.delete(rem, out_rem[index], axis=0)"
      ],
      "metadata": {
        "id": "fmSvLUykS6jK"
      },
      "execution_count": 92,
      "outputs": []
    },
    {
      "cell_type": "code",
      "source": [],
      "metadata": {
        "colab": {
          "base_uri": "https://localhost:8080/"
        },
        "id": "n4HtsxNTTHqP",
        "outputId": "4974d6f4-5665-4515-936e-2b696aaa3592"
      },
      "execution_count": 94,
      "outputs": [
        {
          "output_type": "execute_result",
          "data": {
            "text/plain": [
              "(468, 15)"
            ]
          },
          "metadata": {},
          "execution_count": 94
        }
      ]
    },
    {
      "cell_type": "code",
      "source": [
        "# criando listas para armazenar os trechos normalizados\n",
        "norm_vigilia = []\n",
        "norm_stage1 = []\n",
        "norm_stage2 = []\n",
        "norm_stage3 = []\n",
        "norm_stage4 = []\n",
        "norm_rem = []\n",
        "\n",
        "# iterando sobre cada lista para receber os dados normalizados\n",
        "# t3_normaliza(dados,metodo='linear',r=1):\n",
        "for index in range(0,15):\n",
        "  norm_vigilia.append(t3_normaliza(no_out_vigilia[:,index], 'linear', r=1))\n",
        "  norm_stage1.append(t3_normaliza(no_out_stage_1[:,index], 'linear', r=1))\n",
        "  norm_stage2.append(t3_normaliza(no_out_stage_2[:,index], 'linear', r=1))\n",
        "  norm_stage3.append(t3_normaliza(no_out_stage_3[:,index], 'linear', r=1))\n",
        "  norm_stage4.append(t3_normaliza(no_out_stage_4[:,index], 'linear', r=1))\n",
        "  norm_rem.append(t3_normaliza(no_out_rem[:,index], 'linear', r=1))"
      ],
      "metadata": {
        "id": "lSs7ZMm_0PY_"
      },
      "execution_count": 95,
      "outputs": []
    },
    {
      "cell_type": "code",
      "source": [
        "norm_vigilia = np.asarray(norm_vigilia)\n",
        "norm_stage1 = np.asarray(norm_stage1)"
      ],
      "metadata": {
        "id": "4Rby3s_YVvum"
      },
      "execution_count": null,
      "outputs": []
    },
    {
      "cell_type": "code",
      "source": [
        "def t3_preselec(dados1,dados2,alfa,verbose=True):\n",
        "    #A função retorna os indices das características que apresentaram\n",
        "    #significatividade (\"rel\") e os p-values das características na\n",
        "    #distinção entre classes (\"p\")\n",
        "    #Inputs:\n",
        "    # - dados1 = array características x padrões da primeira classe\n",
        "    # - dados2 = array características x padrões da segunda classe\n",
        "    # - alfa = taxa de erro tipo I do teste (por exemplo, alfa=0.05)\n",
        "    Ncarac,Npad=dados1.shape\n",
        "    Ncarac2,Npad2=dados2.shape\n",
        "    if Ncarac2!= Ncarac:\n",
        "        print('Erro: matrizes devem ter o mesmo numero de caracteristicas!')\n",
        "        return\n",
        "    p=np.zeros(Ncarac)\n",
        "    for i in range(Ncarac):\n",
        "        s1=st.shapiro(dados1[i,:])\n",
        "        s2=st.shapiro(dados2[i,:])\n",
        "        if (s1[1]<0.05) | (s2[1]<0.05):\n",
        "            res=st.ranksums(dados1[i,:],dados2[i,:])\n",
        "            p[i]=res.pvalue\n",
        "            if verbose:\n",
        "                print('Aviso: normalidade rejeitada para a caracteristica nº '+ str(i+1))\n",
        "        else:\n",
        "            res=st.ttest_ind(dados1[i,:],dados2[i,:])\n",
        "            p[i]=res.pvalue\n",
        "    relevantes=(p<alfa)\n",
        "    rel=[i for i,val in enumerate(relevantes) if val]\n",
        "    return rel,p"
      ],
      "metadata": {
        "colab": {
          "base_uri": "https://localhost:8080/"
        },
        "id": "VIiZgWkbLZum",
        "outputId": "a2900903-e24a-4cd5-880f-eaa22d96fa6a"
      },
      "execution_count": 67,
      "outputs": [
        {
          "output_type": "execute_result",
          "data": {
            "text/plain": [
              "[3]"
            ]
          },
          "metadata": {},
          "execution_count": 67
        }
      ]
    },
    {
      "cell_type": "code",
      "source": [],
      "metadata": {
        "id": "EdQLWMDcMYq1"
      },
      "execution_count": null,
      "outputs": []
    }
  ]
}